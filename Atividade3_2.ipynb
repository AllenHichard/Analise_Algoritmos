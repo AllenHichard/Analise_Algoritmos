{
  "nbformat": 4,
  "nbformat_minor": 0,
  "metadata": {
    "colab": {
      "name": "Atividade3_2.ipynb",
      "provenance": [],
      "collapsed_sections": [],
      "include_colab_link": true
    },
    "kernelspec": {
      "name": "python3",
      "display_name": "Python 3"
    }
  },
  "cells": [
    {
      "cell_type": "markdown",
      "metadata": {
        "id": "view-in-github",
        "colab_type": "text"
      },
      "source": [
        "<a href=\"https://colab.research.google.com/github/AllenHichard/Analise_Algoritmos/blob/main/Atividade3_2.ipynb\" target=\"_parent\"><img src=\"https://colab.research.google.com/assets/colab-badge.svg\" alt=\"Open In Colab\"/></a>"
      ]
    },
    {
      "cell_type": "markdown",
      "metadata": {
        "id": "EoORkOphIMc-"
      },
      "source": [
        "Algoritmos"
      ]
    },
    {
      "cell_type": "code",
      "metadata": {
        "id": "dwcSIPydC8pn"
      },
      "source": [
        "def ks_T(W, P, c):\n",
        "    T = [[0 for x in range(c + 1)] for y in range(len(W))]\n",
        "    for i in range(0, len(W)):  #\n",
        "        for j in range(1, c + 1):\n",
        "            if W[i] <= j:\n",
        "                T[i][j] = max(T[i - 1][j], P[i] + T[i - 1][j - W[i]])\n",
        "            else:\n",
        "                T[i][j] = T[i - 1][j]\n",
        "    return T[-1][-1]\n",
        "\n",
        "\n",
        "def ks_M(W, P, c, i, M):\n",
        "    if i == 0 or c <= 0:\n",
        "        return 0\n",
        "    if (c, i) in M:\n",
        "        return M[(c, i)]\n",
        "    if W[i - 1] > c:\n",
        "        M[(c, i)] = ks_M(W, P, c, i - 1, M)\n",
        "        return M[(c, i)]\n",
        "    else:\n",
        "        M[(c, i)] = max(P[i - 1] + ks_M(W, P, c - W[i - 1], i - 1, M), ks_M(W, P, c, i - 1, M))\n",
        "        return M[(c, i)]\n",
        "\n",
        "\n",
        "def ks(W, P, c, i):\n",
        "    if i == 0 or c <= 0:\n",
        "        return 0\n",
        "    if W[i - 1] > c:\n",
        "        return ks(W, P, c, i - 1)\n",
        "    else:\n",
        "        return max(P[i - 1] + ks(W, P, c - W[i - 1], i - 1), ks(W, P, c, i - 1))\n",
        "\n",
        "\n",
        "# to do\n",
        "def knapSackNaive(W, P, c):\n",
        "    return ks(W, P, c, len(W))\n",
        "\n",
        "\n",
        "# to do\n",
        "def knapSackMem(W, P, c):\n",
        "    M = {}\n",
        "    return ks_M(W, P, c, len(W), M)\n",
        "\n",
        "\n",
        "# to do\n",
        "def knapSacTab(W, P, c):\n",
        "    return ks_T(W, P, c)\n",
        "  "
      ],
      "execution_count": 1,
      "outputs": []
    },
    {
      "cell_type": "markdown",
      "metadata": {
        "id": "D3feVyjtAXoc"
      },
      "source": [
        "Data Colection"
      ]
    },
    {
      "cell_type": "code",
      "metadata": {
        "colab": {
          "base_uri": "https://localhost:8080/"
        },
        "id": "Z9Vx0GqkAYAV",
        "outputId": "c6c6f66f-1a46-4a50-9538-0614d4961163"
      },
      "source": [
        "import time\n",
        "from numpy import random\n",
        "\n",
        "WEIGHT_DOMAIN = 10\n",
        "PROFIT_DOMAIN = 1000\n",
        "CAPACITY_PROBABILITY = 0.3\n",
        "\n",
        "#defines the number of times each algorithm will be processed to obtain the average time\n",
        "num_rounds = 5\n",
        "\n",
        "alg_results = dict()\n",
        "\n",
        "#calculates the executions average time\n",
        "def avgTime(func, size, debug=True):\n",
        "  t = 0\n",
        "  for i in range(num_rounds):  \n",
        "    random.seed(size+i)    \n",
        "    W = list(random.randint(WEIGHT_DOMAIN, size=size))\n",
        "    P = list(random.randint(PROFIT_DOMAIN, size=size))    \n",
        "    c = random.randint(int(CAPACITY_PROBABILITY*size)*WEIGHT_DOMAIN)\n",
        "    start = time.time()\n",
        "    p = func(W,P,c)\n",
        "    end = time.time()    \n",
        "    t += end - start\n",
        "\n",
        "    if debug:\n",
        "      ##create a variable to store the debug results\n",
        "      if 'DR' not in globals():\n",
        "        global DR\n",
        "        DR = dict()\n",
        "      \n",
        "      ##add the result or check if it is the same\n",
        "      if (size,i) not in DR:\n",
        "        DR[(size,i)] = p\n",
        "      else:          \n",
        "        assert p == DR[(size,i)]\n",
        "      \n",
        "  return t/num_rounds\n",
        "\n",
        "\n",
        "#defines the algorithms to be processed\n",
        "algorithms = [knapSackNaive,knapSackMem,knapSacTab]\n",
        "\n",
        "sizes = [5,10,15,20,25]\n",
        "#sizes = [100,200,300,400,500]\n",
        "\n",
        "mapSizeToTime = dict()\n",
        "for i in range(len(sizes)):\n",
        "  print(f\"Starting collect {i+1}\")\n",
        "  \n",
        "  #map list size to algorithm average time\n",
        "  for algorithm in algorithms:\n",
        "    print('  > ', algorithm.__name__)  \n",
        "    mapSizeToTime[f\"{algorithm.__name__ }##{sizes[i]}\"] = avgTime(algorithm, sizes[i], True)\n",
        "  print(\"\")\n",
        "\n",
        "print(f\"Finish data collection\")"
      ],
      "execution_count": 2,
      "outputs": [
        {
          "output_type": "stream",
          "text": [
            "Starting collect 1\n",
            "  >  knapSackNaive\n",
            "  >  knapSackMem\n",
            "  >  knapSacTab\n",
            "\n",
            "Starting collect 2\n",
            "  >  knapSackNaive\n",
            "  >  knapSackMem\n",
            "  >  knapSacTab\n",
            "\n",
            "Starting collect 3\n",
            "  >  knapSackNaive\n",
            "  >  knapSackMem\n",
            "  >  knapSacTab\n",
            "\n",
            "Starting collect 4\n",
            "  >  knapSackNaive\n",
            "  >  knapSackMem\n",
            "  >  knapSacTab\n",
            "\n",
            "Starting collect 5\n",
            "  >  knapSackNaive\n",
            "  >  knapSackMem\n",
            "  >  knapSacTab\n",
            "\n",
            "Finish data collection\n"
          ],
          "name": "stdout"
        }
      ]
    },
    {
      "cell_type": "markdown",
      "metadata": {
        "id": "UGjqC7swho85"
      },
      "source": [
        "Gráfico"
      ]
    },
    {
      "cell_type": "code",
      "metadata": {
        "colab": {
          "base_uri": "https://localhost:8080/",
          "height": 627
        },
        "id": "WArLUIBdhqQ4",
        "outputId": "783495e0-881e-49bd-d040-2a8a2571cf3e"
      },
      "source": [
        "import seaborn as sns\n",
        "import matplotlib.pyplot as plt\n",
        "import pandas as pd\n",
        "\n",
        "df = pd.DataFrame.from_dict(mapSizeToTime, orient='index', columns=['Time'])\n",
        "df['Algorithm'] = [i.split(\"##\")[0] for i in df.index]\n",
        "df['Size'] = [int(i.split(\"##\")[1]) for i in df.index]\n",
        "df\n",
        "\n",
        "#Defines font size and line width\n",
        "sns.set(font_scale=1, style=\"ticks\", rc={\"lines.linewidth\": 2})\n",
        "\n",
        "#Defines plot size\n",
        "plt.rcParams['figure.figsize'] = [20, 10]\n",
        "\n",
        "chart = sns.lineplot(x='Size', y='Time', hue='Algorithm', data=df)\n",
        "\n",
        "#plt.yscale('log')\n",
        "fig = plt.figure()\n",
        "chart.set(xticks=[i for i in df.Size])\n",
        "plt.show()"
      ],
      "execution_count": 3,
      "outputs": [
        {
          "output_type": "display_data",
          "data": {
            "image/png": "[encoded data removed]",
            "text/plain": [
              "<Figure size 1440x720 with 1 Axes>"
            ]
          },
          "metadata": {
            "tags": []
          }
        },
        {
          "output_type": "display_data",
          "data": {
            "text/plain": [
              "<Figure size 1440x720 with 0 Axes>"
            ]
          },
          "metadata": {
            "tags": []
          }
        }
      ]
    }
  ]
}