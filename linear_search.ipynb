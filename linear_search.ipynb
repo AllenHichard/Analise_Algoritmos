{
  "nbformat": 4,
  "nbformat_minor": 0,
  "metadata": {
    "colab": {
      "name": "LinearSearch.ipynb",
      "provenance": [],
      "collapsed_sections": [],
      "include_colab_link": true
    },
    "kernelspec": {
      "name": "python3",
      "display_name": "Python 3"
    }
  },
  "cells": [
    {
      "cell_type": "markdown",
      "metadata": {
        "id": "view-in-github",
        "colab_type": "text"
      },
      "source": [
        "<a href=\"https://colab.research.google.com/github/AllenHichard/Analise_Algoritmos/blob/main/LinearSearch.ipynb\" target=\"_parent\"><img src=\"https://colab.research.google.com/assets/colab-badge.svg\" alt=\"Open In Colab\"/></a>"
      ]
    },
    {
      "cell_type": "markdown",
      "metadata": {
        "id": "EoORkOphIMc-"
      },
      "source": [
        "Algoritmos"
      ]
    },
    {
      "cell_type": "code",
      "metadata": {
        "id": "dwcSIPydC8pn"
      },
      "source": [
        "def linearSearch(L, key):\n",
        "  i=0\n",
        "  while i < len(L):\n",
        "    if L[i]==key:\n",
        "      return True\n",
        "    i+=1  \n",
        "  return False\n",
        "\n",
        "def linearSearchSentinela(L,key):\n",
        "  L.append(key)\n",
        "  i = 0\n",
        "  while key != L[i]:\n",
        "    i+=1\n",
        "  L.pop()\n",
        "  return i < len(L)"
      ],
      "execution_count": null,
      "outputs": []
    },
    {
      "cell_type": "markdown",
      "metadata": {
        "id": "QSVa8JepIU5d"
      },
      "source": [
        "Coleta de dados dos experimentos"
      ]
    },
    {
      "cell_type": "code",
      "metadata": {
        "id": "UrHF7SQDERih",
        "colab": {
          "base_uri": "https://localhost:8080/"
        },
        "outputId": "f9ae10d0-a296-48b9-f15f-db0e5cb2b867"
      },
      "source": [
        "import time\n",
        "from numpy import random\n",
        "DOMAIN = 1000000000 #1B\n",
        "def avgTime(L,func,rounds):\n",
        "  random.seed(17)\n",
        "  s = 0\n",
        "  for i in range(rounds):\n",
        "    start = time.time()\n",
        "    key = random.randint(DOMAIN)\n",
        "    func(L,key)\n",
        "    end = time.time()\n",
        "    s += end-start\n",
        "  return s/rounds\n",
        "\n",
        "#defines the algorithms to be processed\n",
        "algorithms = [linearSearch, linearSearchSentinela]\n",
        "\n",
        "#defines the number of times each algorithm will be processed to find the average time\n",
        "num_rounds = 2 \n",
        "\n",
        "##sizes 1M, 5M, 10M, 15M, 20M\n",
        "sizes = [1000000, 5000000,10000000,15000000,20000000]\n",
        "mapSizeToTime = dict()\n",
        "for i in range(5):\n",
        "  print(f\"Starting round {i+1}\")\n",
        "  \n",
        "  #create a list with random numbers\n",
        "  L=list(random.randint(DOMAIN, size=sizes[i]))\n",
        "  \n",
        "  ##Map list size to algorithm average time\n",
        "  for algorithm in algorithms:\n",
        "    mapSizeToTime[f\"{algorithm.__name__ }##{sizes[i]}\"] = avgTime(L, algorithm, num_rounds)\n",
        "  \n",
        "print(f\"Finish data collection\")"
      ],
      "execution_count": null,
      "outputs": [
        {
          "output_type": "stream",
          "text": [
            "Starting round 1\n",
            "Starting round 2\n",
            "Starting round 3\n",
            "Starting round 4\n",
            "Starting round 5\n",
            "Finish data collection\n"
          ],
          "name": "stdout"
        }
      ]
    },
    {
      "cell_type": "markdown",
      "metadata": {
        "id": "ERQNwuNtIdA7"
      },
      "source": [
        "Formata os dados do experimento para serem exibidos"
      ]
    },
    {
      "cell_type": "code",
      "metadata": {
        "id": "cJP-IzymQtk5",
        "colab": {
          "base_uri": "https://localhost:8080/",
          "height": 355
        },
        "outputId": "35b807bb-9fba-4464-e8c9-f8017a8c70e1"
      },
      "source": [
        "import pandas as pd\n",
        "df = pd.DataFrame.from_dict(mapSizeToTime, orient='index',columns=['Time'])\n",
        "df['Algorithm'] = [i.split(\"##\")[0] for i in df.index]\n",
        "df['Size'] = [int(i.split(\"##\")[1]) for i in df.index]\n",
        "df"
      ],
      "execution_count": null,
      "outputs": [
        {
          "output_type": "execute_result",
          "data": {
            "text/html": [
              "<div>\n",
              "<style scoped>\n",
              "    .dataframe tbody tr th:only-of-type {\n",
              "        vertical-align: middle;\n",
              "    }\n",
              "\n",
              "    .dataframe tbody tr th {\n",
              "        vertical-align: top;\n",
              "    }\n",
              "\n",
              "    .dataframe thead th {\n",
              "        text-align: right;\n",
              "    }\n",
              "</style>\n",
              "<table border=\"1\" class=\"dataframe\">\n",
              "  <thead>\n",
              "    <tr style=\"text-align: right;\">\n",
              "      <th></th>\n",
              "      <th>Time</th>\n",
              "      <th>Algorithm</th>\n",
              "      <th>Size</th>\n",
              "    </tr>\n",
              "  </thead>\n",
              "  <tbody>\n",
              "    <tr>\n",
              "      <th>linearSearch##1000000</th>\n",
              "      <td>0.499118</td>\n",
              "      <td>linearSearch</td>\n",
              "      <td>1000000</td>\n",
              "    </tr>\n",
              "    <tr>\n",
              "      <th>linearSearchSentinela##1000000</th>\n",
              "      <td>0.367674</td>\n",
              "      <td>linearSearchSentinela</td>\n",
              "      <td>1000000</td>\n",
              "    </tr>\n",
              "    <tr>\n",
              "      <th>linearSearch##5000000</th>\n",
              "      <td>2.426418</td>\n",
              "      <td>linearSearch</td>\n",
              "      <td>5000000</td>\n",
              "    </tr>\n",
              "    <tr>\n",
              "      <th>linearSearchSentinela##5000000</th>\n",
              "      <td>1.805721</td>\n",
              "      <td>linearSearchSentinela</td>\n",
              "      <td>5000000</td>\n",
              "    </tr>\n",
              "    <tr>\n",
              "      <th>linearSearch##10000000</th>\n",
              "      <td>4.677158</td>\n",
              "      <td>linearSearch</td>\n",
              "      <td>10000000</td>\n",
              "    </tr>\n",
              "    <tr>\n",
              "      <th>linearSearchSentinela##10000000</th>\n",
              "      <td>3.637068</td>\n",
              "      <td>linearSearchSentinela</td>\n",
              "      <td>10000000</td>\n",
              "    </tr>\n",
              "    <tr>\n",
              "      <th>linearSearch##15000000</th>\n",
              "      <td>7.248249</td>\n",
              "      <td>linearSearch</td>\n",
              "      <td>15000000</td>\n",
              "    </tr>\n",
              "    <tr>\n",
              "      <th>linearSearchSentinela##15000000</th>\n",
              "      <td>5.405179</td>\n",
              "      <td>linearSearchSentinela</td>\n",
              "      <td>15000000</td>\n",
              "    </tr>\n",
              "    <tr>\n",
              "      <th>linearSearch##20000000</th>\n",
              "      <td>9.632527</td>\n",
              "      <td>linearSearch</td>\n",
              "      <td>20000000</td>\n",
              "    </tr>\n",
              "    <tr>\n",
              "      <th>linearSearchSentinela##20000000</th>\n",
              "      <td>7.208264</td>\n",
              "      <td>linearSearchSentinela</td>\n",
              "      <td>20000000</td>\n",
              "    </tr>\n",
              "  </tbody>\n",
              "</table>\n",
              "</div>"
            ],
            "text/plain": [
              "                                     Time              Algorithm      Size\n",
              "linearSearch##1000000            0.499118           linearSearch   1000000\n",
              "linearSearchSentinela##1000000   0.367674  linearSearchSentinela   1000000\n",
              "linearSearch##5000000            2.426418           linearSearch   5000000\n",
              "linearSearchSentinela##5000000   1.805721  linearSearchSentinela   5000000\n",
              "linearSearch##10000000           4.677158           linearSearch  10000000\n",
              "linearSearchSentinela##10000000  3.637068  linearSearchSentinela  10000000\n",
              "linearSearch##15000000           7.248249           linearSearch  15000000\n",
              "linearSearchSentinela##15000000  5.405179  linearSearchSentinela  15000000\n",
              "linearSearch##20000000           9.632527           linearSearch  20000000\n",
              "linearSearchSentinela##20000000  7.208264  linearSearchSentinela  20000000"
            ]
          },
          "metadata": {
            "tags": []
          },
          "execution_count": 3
        }
      ]
    },
    {
      "cell_type": "markdown",
      "metadata": {
        "id": "EttLgpJu9NSq"
      },
      "source": [
        "Resultado do experimento (gráfico)"
      ]
    },
    {
      "cell_type": "code",
      "metadata": {
        "id": "6-fc0MDFIdQM",
        "colab": {
          "base_uri": "https://localhost:8080/",
          "height": 387
        },
        "outputId": "d876c5e1-0bd9-4cf1-e9c2-cb834e510ada"
      },
      "source": [
        "import seaborn as sns\n",
        "%matplotlib inline\n",
        "import matplotlib.pyplot as plt\n",
        "\n",
        "##Defines font size and line width\n",
        "sns.set(font_scale=1, style=\"ticks\", rc={\"lines.linewidth\": 2})\n",
        "\n",
        "##Defines plot size\n",
        "plt.rcParams['figure.figsize'] = [20, 10]\n",
        "\n",
        "g = sns.lineplot(x='Size', y='Time', hue='Algorithm', data=df)\n",
        "fig = plt.figure()\n",
        "g.set(xticks=[i for i in df.Size])\n",
        "plt.show()"
      ],
      "execution_count": null,
      "outputs": [
        {
          "output_type": "display_data",
          "data": {
            "image/png": "[encoded data removed]",
            "text/plain": [
              "<Figure size 1440x720 with 1 Axes>"
            ]
          },
          "metadata": {
            "tags": []
          }
        },
        {
          "output_type": "display_data",
          "data": {
            "text/plain": [
              "<Figure size 1440x720 with 0 Axes>"
            ]
          },
          "metadata": {
            "tags": []
          }
        }
      ]
    }
  ]
}