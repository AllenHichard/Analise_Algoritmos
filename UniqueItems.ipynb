{
  "nbformat": 4,
  "nbformat_minor": 0,
  "metadata": {
    "colab": {
      "name": "UniqueItems.ipynb",
      "provenance": [],
      "collapsed_sections": [],
      "include_colab_link": true
    },
    "kernelspec": {
      "name": "python3",
      "display_name": "Python 3"
    }
  },
  "cells": [
    {
      "cell_type": "markdown",
      "metadata": {
        "id": "view-in-github",
        "colab_type": "text"
      },
      "source": [
        "<a href=\"https://colab.research.google.com/github/AllenHichard/Analise_Algoritmos/blob/main/UniqueItems.ipynb\" target=\"_parent\"><img src=\"https://colab.research.google.com/assets/colab-badge.svg\" alt=\"Open In Colab\"/></a>"
      ]
    },
    {
      "cell_type": "markdown",
      "metadata": {
        "id": "EoORkOphIMc-"
      },
      "source": [
        "Algoritmos"
      ]
    },
    {
      "cell_type": "code",
      "metadata": {
        "id": "dwcSIPydC8pn"
      },
      "source": [
        "def unique_Naive(L):\n",
        "  \n",
        "def unique_Sort(L):\n",
        "  \n",
        "def unique_Hash(L):\n",
        "  "
      ],
      "execution_count": null,
      "outputs": []
    },
    {
      "cell_type": "markdown",
      "metadata": {
        "id": "QSVa8JepIU5d"
      },
      "source": [
        "Coleta de dados dos experimentos"
      ]
    },
    {
      "cell_type": "code",
      "metadata": {
        "id": "UrHF7SQDERih",
        "colab": {
          "base_uri": "https://localhost:8080/"
        },
        "outputId": "9ca41842-ae66-4a24-9ce6-96b6d900daca"
      },
      "source": [
        "import time\n",
        "from numpy import random\n",
        "DOMAIN = 100 ##Você deve escolher um domínio mais adequado\n",
        "def avg_time(domain, tam, func, rounds): \n",
        "  sum = float(0)\n",
        "  for i in range(rounds):\n",
        "    #create a list with random numbers\n",
        "    random.seed(i)\n",
        "    L=list(random.randint(tam+domain, size=tam))\n",
        " \n",
        "    start = time.time()    \n",
        "    func(L)\n",
        "    end = time.time()\n",
        "    sum += end-start\n",
        "  return sum/rounds\n",
        "\n",
        "#defines the algorithms to be processed\n",
        "algorithms = [unique_Naive, unique_Sort, unique_Hash]\n",
        "\n",
        "#defines the number of times each algorithm will be processed to find the average time\n",
        "num_rounds = 1 \n",
        "\n",
        "sizes = [5,10,15,20,25] ##você deve escolher tamanhos mais adequados\n",
        "mapSizeToTime = dict()\n",
        "for i in range(5):\n",
        "  print(f\"Starting round {i+1}, size={sizes[i]}\")\n",
        "  \n",
        "  ##Map list size to algorithm average time\n",
        "  for algorithm in algorithms:      \n",
        "    mapSizeToTime[f\"{algorithm.__name__ }##{sizes[i]}\"] = avg_time(DOMAIN, sizes[i], algorithm, num_rounds)\n",
        "  \n",
        "print(f\"Finish data collection\")"
      ],
      "execution_count": null,
      "outputs": [
        {
          "output_type": "stream",
          "text": [
            "Starting round 1, size=500\n",
            "Starting round 2, size=1000\n",
            "Starting round 3, size=1500\n",
            "Starting round 4, size=2000\n",
            "Starting round 5, size=2500\n",
            "Finish data collection\n"
          ],
          "name": "stdout"
        }
      ]
    },
    {
      "cell_type": "markdown",
      "metadata": {
        "id": "ERQNwuNtIdA7"
      },
      "source": [
        "Formata os dados do experimento para serem exibidos"
      ]
    },
    {
      "cell_type": "code",
      "metadata": {
        "id": "cJP-IzymQtk5",
        "colab": {
          "base_uri": "https://localhost:8080/",
          "height": 514
        },
        "outputId": "659bcd1e-b0da-4c97-e85d-5642efd8e994"
      },
      "source": [
        "import pandas as pd\n",
        "df = pd.DataFrame.from_dict(mapSizeToTime, orient='index',columns=['Time'])\n",
        "df['Algorithm'] = [i.split(\"##\")[0] for i in df.index]\n",
        "df['Size'] = [int(i.split(\"##\")[1]) for i in df.index]\n",
        "df"
      ],
      "execution_count": null,
      "outputs": [
        {
          "output_type": "execute_result",
          "data": {
            "text/html": [
              "<div>\n",
              "<style scoped>\n",
              "    .dataframe tbody tr th:only-of-type {\n",
              "        vertical-align: middle;\n",
              "    }\n",
              "\n",
              "    .dataframe tbody tr th {\n",
              "        vertical-align: top;\n",
              "    }\n",
              "\n",
              "    .dataframe thead th {\n",
              "        text-align: right;\n",
              "    }\n",
              "</style>\n",
              "<table border=\"1\" class=\"dataframe\">\n",
              "  <thead>\n",
              "    <tr style=\"text-align: right;\">\n",
              "      <th></th>\n",
              "      <th>Time</th>\n",
              "      <th>Algorithm</th>\n",
              "      <th>Size</th>\n",
              "    </tr>\n",
              "  </thead>\n",
              "  <tbody>\n",
              "    <tr>\n",
              "      <th>unique_Naive##500</th>\n",
              "      <td>0.024823</td>\n",
              "      <td>unique_Naive</td>\n",
              "      <td>500</td>\n",
              "    </tr>\n",
              "    <tr>\n",
              "      <th>unique_Sort##500</th>\n",
              "      <td>0.000234</td>\n",
              "      <td>unique_Sort</td>\n",
              "      <td>500</td>\n",
              "    </tr>\n",
              "    <tr>\n",
              "      <th>unique_Hash##500</th>\n",
              "      <td>0.000142</td>\n",
              "      <td>unique_Hash</td>\n",
              "      <td>500</td>\n",
              "    </tr>\n",
              "    <tr>\n",
              "      <th>unique_Naive##1000</th>\n",
              "      <td>0.096164</td>\n",
              "      <td>unique_Naive</td>\n",
              "      <td>1000</td>\n",
              "    </tr>\n",
              "    <tr>\n",
              "      <th>unique_Sort##1000</th>\n",
              "      <td>0.000476</td>\n",
              "      <td>unique_Sort</td>\n",
              "      <td>1000</td>\n",
              "    </tr>\n",
              "    <tr>\n",
              "      <th>unique_Hash##1000</th>\n",
              "      <td>0.000180</td>\n",
              "      <td>unique_Hash</td>\n",
              "      <td>1000</td>\n",
              "    </tr>\n",
              "    <tr>\n",
              "      <th>unique_Naive##1500</th>\n",
              "      <td>0.239475</td>\n",
              "      <td>unique_Naive</td>\n",
              "      <td>1500</td>\n",
              "    </tr>\n",
              "    <tr>\n",
              "      <th>unique_Sort##1500</th>\n",
              "      <td>0.000789</td>\n",
              "      <td>unique_Sort</td>\n",
              "      <td>1500</td>\n",
              "    </tr>\n",
              "    <tr>\n",
              "      <th>unique_Hash##1500</th>\n",
              "      <td>0.000320</td>\n",
              "      <td>unique_Hash</td>\n",
              "      <td>1500</td>\n",
              "    </tr>\n",
              "    <tr>\n",
              "      <th>unique_Naive##2000</th>\n",
              "      <td>0.421320</td>\n",
              "      <td>unique_Naive</td>\n",
              "      <td>2000</td>\n",
              "    </tr>\n",
              "    <tr>\n",
              "      <th>unique_Sort##2000</th>\n",
              "      <td>0.001017</td>\n",
              "      <td>unique_Sort</td>\n",
              "      <td>2000</td>\n",
              "    </tr>\n",
              "    <tr>\n",
              "      <th>unique_Hash##2000</th>\n",
              "      <td>0.000356</td>\n",
              "      <td>unique_Hash</td>\n",
              "      <td>2000</td>\n",
              "    </tr>\n",
              "    <tr>\n",
              "      <th>unique_Naive##2500</th>\n",
              "      <td>0.662183</td>\n",
              "      <td>unique_Naive</td>\n",
              "      <td>2500</td>\n",
              "    </tr>\n",
              "    <tr>\n",
              "      <th>unique_Sort##2500</th>\n",
              "      <td>0.001346</td>\n",
              "      <td>unique_Sort</td>\n",
              "      <td>2500</td>\n",
              "    </tr>\n",
              "    <tr>\n",
              "      <th>unique_Hash##2500</th>\n",
              "      <td>0.000438</td>\n",
              "      <td>unique_Hash</td>\n",
              "      <td>2500</td>\n",
              "    </tr>\n",
              "  </tbody>\n",
              "</table>\n",
              "</div>"
            ],
            "text/plain": [
              "                        Time     Algorithm  Size\n",
              "unique_Naive##500   0.024823  unique_Naive   500\n",
              "unique_Sort##500    0.000234   unique_Sort   500\n",
              "unique_Hash##500    0.000142   unique_Hash   500\n",
              "unique_Naive##1000  0.096164  unique_Naive  1000\n",
              "unique_Sort##1000   0.000476   unique_Sort  1000\n",
              "unique_Hash##1000   0.000180   unique_Hash  1000\n",
              "unique_Naive##1500  0.239475  unique_Naive  1500\n",
              "unique_Sort##1500   0.000789   unique_Sort  1500\n",
              "unique_Hash##1500   0.000320   unique_Hash  1500\n",
              "unique_Naive##2000  0.421320  unique_Naive  2000\n",
              "unique_Sort##2000   0.001017   unique_Sort  2000\n",
              "unique_Hash##2000   0.000356   unique_Hash  2000\n",
              "unique_Naive##2500  0.662183  unique_Naive  2500\n",
              "unique_Sort##2500   0.001346   unique_Sort  2500\n",
              "unique_Hash##2500   0.000438   unique_Hash  2500"
            ]
          },
          "metadata": {
            "tags": []
          },
          "execution_count": 4
        }
      ]
    },
    {
      "cell_type": "markdown",
      "metadata": {
        "id": "EttLgpJu9NSq"
      },
      "source": [
        "Resultado do experimento (gráfico)"
      ]
    },
    {
      "cell_type": "code",
      "metadata": {
        "id": "6-fc0MDFIdQM",
        "colab": {
          "base_uri": "https://localhost:8080/",
          "height": 514
        },
        "outputId": "f71e20b2-fac2-4392-80b3-3efb2519df59"
      },
      "source": [
        "import seaborn as sns\n",
        "%matplotlib inline\n",
        "import matplotlib.pyplot as plt\n",
        "\n",
        "##Defines font size and line width\n",
        "sns.set(font_scale=1, style=\"ticks\", rc={\"lines.linewidth\": 2})\n",
        "\n",
        "##Defines plot size\n",
        "plt.rcParams['figure.figsize'] = [20, 10]\n",
        "\n",
        "g = sns.lineplot(x='Size', y='Time', hue='Algorithm', data=df)\n",
        "g.set_yscale('log')\n",
        "g.set(xticks=[i for i in df.Size])\n",
        "plt.show()"
      ],
      "execution_count": null,
      "outputs": [
        {
          "output_type": "display_data",
          "data": {
            "image/png": "[encoded data removed]",
            "text/plain": [
              "<Figure size 1440x720 with 1 Axes>"
            ]
          },
          "metadata": {
            "tags": []
          }
        }
      ]
    }
  ]
}