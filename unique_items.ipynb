{
  "nbformat": 4,
  "nbformat_minor": 0,
  "metadata": {
    "colab": {
      "name": "UniqueItems.ipynb",
      "provenance": [],
      "collapsed_sections": [],
      "include_colab_link": true
    },
    "kernelspec": {
      "name": "python3",
      "display_name": "Python 3"
    }
  },
  "cells": [
    {
      "cell_type": "markdown",
      "metadata": {
        "id": "view-in-github",
        "colab_type": "text"
      },
      "source": [
        "<a href=\"https://colab.research.google.com/github/AllenHichard/Analise_Algoritmos/blob/main/UniqueItems.ipynb\" target=\"_parent\"><img src=\"https://colab.research.google.com/assets/colab-badge.svg\" alt=\"Open In Colab\"/></a>"
      ]
    },
    {
      "cell_type": "markdown",
      "metadata": {
        "id": "EoORkOphIMc-"
      },
      "source": [
        "Algoritmos"
      ]
    },
    {
      "cell_type": "code",
      "metadata": {
        "id": "dwcSIPydC8pn"
      },
      "source": [
        "def unique_Naive(L):\n",
        "  i=0\n",
        "  while i < len(L) - 1:\n",
        "    j = i + 1\n",
        "    while j < len(L):\n",
        "      if L[i]==L[j]:\n",
        "        return False\n",
        "      j += 1\n",
        "    i += 1\n",
        "  return True\n",
        "\n",
        "def unique_Sort(L):\n",
        "  L = sorted(L)\n",
        "  i=1\n",
        "  while i < len(L):\n",
        "    if L[i-1]==L[i]:\n",
        "      return False\n",
        "    i += 1\n",
        "  return True\n",
        "\n",
        "def unique_Hash(L):\n",
        "  H = set() #HashSet\n",
        "  i = 0\n",
        "  while i < len(L):\n",
        "    if L[i] in H:\n",
        "      return False\n",
        "    H.add(L[i])\n",
        "    i += 1\n",
        "  return True\n",
        "  "
      ],
      "execution_count": 34,
      "outputs": []
    },
    {
      "cell_type": "markdown",
      "metadata": {
        "id": "QSVa8JepIU5d"
      },
      "source": [
        "Coleta de dados dos experimentos"
      ]
    },
    {
      "cell_type": "code",
      "metadata": {
        "id": "UrHF7SQDERih",
        "colab": {
          "base_uri": "https://localhost:8080/"
        },
        "outputId": "659fb45c-2545-4c3b-f90f-867873c43bfc"
      },
      "source": [
        "import time\n",
        "from numpy import random\n",
        "DOMAIN = 100000000 ##Você deve escolher um domínio mais adequado\n",
        "def avg_time(domain, tam, func, rounds): \n",
        "  sum = float(0)\n",
        "  for i in range(rounds):\n",
        "    #create a list with random numbers\n",
        "    random.seed(i)\n",
        "    L=list(random.randint(tam+domain, size=tam))\n",
        " \n",
        "    start = time.time()    \n",
        "    func(L)\n",
        "    end = time.time()\n",
        "    sum += end-start\n",
        "  return sum/rounds\n",
        "\n",
        "#defines the algorithms to be processed\n",
        "algorithms = [unique_Naive, unique_Sort, unique_Hash]\n",
        "\n",
        "#defines the number of times each algorithm will be processed to find the average time\n",
        "num_rounds = 6 \n",
        "\n",
        "sizes = [5000,10000,15000,20000,25000] ##você deve escolher tamanhos mais adequados\n",
        "mapSizeToTime = dict()\n",
        "for i in range(5):\n",
        "  print(f\"Starting round {i+1}, size={sizes[i]}\")\n",
        "  \n",
        "  ##Map list size to algorithm average time\n",
        "  for algorithm in algorithms:      \n",
        "    mapSizeToTime[f\"{algorithm.__name__ }##{sizes[i]}\"] = avg_time(DOMAIN, sizes[i], algorithm, num_rounds)\n",
        "  \n",
        "print(f\"Finish data collection\")"
      ],
      "execution_count": 35,
      "outputs": [
        {
          "output_type": "stream",
          "text": [
            "Starting round 1, size=5000\n",
            "Starting round 2, size=10000\n",
            "Starting round 3, size=15000\n",
            "Starting round 4, size=20000\n",
            "Starting round 5, size=25000\n",
            "Finish data collection\n"
          ],
          "name": "stdout"
        }
      ]
    },
    {
      "cell_type": "markdown",
      "metadata": {
        "id": "ERQNwuNtIdA7"
      },
      "source": [
        "Formata os dados do experimento para serem exibidos"
      ]
    },
    {
      "cell_type": "code",
      "metadata": {
        "id": "cJP-IzymQtk5",
        "colab": {
          "base_uri": "https://localhost:8080/",
          "height": 478
        },
        "outputId": "21656f68-8403-48a6-d0d8-5b3aaac6bc0c"
      },
      "source": [
        "import pandas as pd\n",
        "df = pd.DataFrame.from_dict(mapSizeToTime, orient='index',columns=['Time'])\n",
        "df['Algorithm'] = [i.split(\"##\")[0] for i in df.index]\n",
        "df['Size'] = [int(i.split(\"##\")[1]) for i in df.index]\n",
        "df"
      ],
      "execution_count": 36,
      "outputs": [
        {
          "output_type": "execute_result",
          "data": {
            "text/html": [
              "<div>\n",
              "<style scoped>\n",
              "    .dataframe tbody tr th:only-of-type {\n",
              "        vertical-align: middle;\n",
              "    }\n",
              "\n",
              "    .dataframe tbody tr th {\n",
              "        vertical-align: top;\n",
              "    }\n",
              "\n",
              "    .dataframe thead th {\n",
              "        text-align: right;\n",
              "    }\n",
              "</style>\n",
              "<table border=\"1\" class=\"dataframe\">\n",
              "  <thead>\n",
              "    <tr style=\"text-align: right;\">\n",
              "      <th></th>\n",
              "      <th>Time</th>\n",
              "      <th>Algorithm</th>\n",
              "      <th>Size</th>\n",
              "    </tr>\n",
              "  </thead>\n",
              "  <tbody>\n",
              "    <tr>\n",
              "      <th>unique_Naive##5000</th>\n",
              "      <td>3.082502</td>\n",
              "      <td>unique_Naive</td>\n",
              "      <td>5000</td>\n",
              "    </tr>\n",
              "    <tr>\n",
              "      <th>unique_Sort##5000</th>\n",
              "      <td>0.003025</td>\n",
              "      <td>unique_Sort</td>\n",
              "      <td>5000</td>\n",
              "    </tr>\n",
              "    <tr>\n",
              "      <th>unique_Hash##5000</th>\n",
              "      <td>0.002111</td>\n",
              "      <td>unique_Hash</td>\n",
              "      <td>5000</td>\n",
              "    </tr>\n",
              "    <tr>\n",
              "      <th>unique_Naive##10000</th>\n",
              "      <td>9.009892</td>\n",
              "      <td>unique_Naive</td>\n",
              "      <td>10000</td>\n",
              "    </tr>\n",
              "    <tr>\n",
              "      <th>unique_Sort##10000</th>\n",
              "      <td>0.006381</td>\n",
              "      <td>unique_Sort</td>\n",
              "      <td>10000</td>\n",
              "    </tr>\n",
              "    <tr>\n",
              "      <th>unique_Hash##10000</th>\n",
              "      <td>0.003212</td>\n",
              "      <td>unique_Hash</td>\n",
              "      <td>10000</td>\n",
              "    </tr>\n",
              "    <tr>\n",
              "      <th>unique_Naive##15000</th>\n",
              "      <td>15.909494</td>\n",
              "      <td>unique_Naive</td>\n",
              "      <td>15000</td>\n",
              "    </tr>\n",
              "    <tr>\n",
              "      <th>unique_Sort##15000</th>\n",
              "      <td>0.009163</td>\n",
              "      <td>unique_Sort</td>\n",
              "      <td>15000</td>\n",
              "    </tr>\n",
              "    <tr>\n",
              "      <th>unique_Hash##15000</th>\n",
              "      <td>0.004115</td>\n",
              "      <td>unique_Hash</td>\n",
              "      <td>15000</td>\n",
              "    </tr>\n",
              "    <tr>\n",
              "      <th>unique_Naive##20000</th>\n",
              "      <td>23.691444</td>\n",
              "      <td>unique_Naive</td>\n",
              "      <td>20000</td>\n",
              "    </tr>\n",
              "    <tr>\n",
              "      <th>unique_Sort##20000</th>\n",
              "      <td>0.011342</td>\n",
              "      <td>unique_Sort</td>\n",
              "      <td>20000</td>\n",
              "    </tr>\n",
              "    <tr>\n",
              "      <th>unique_Hash##20000</th>\n",
              "      <td>0.005188</td>\n",
              "      <td>unique_Hash</td>\n",
              "      <td>20000</td>\n",
              "    </tr>\n",
              "    <tr>\n",
              "      <th>unique_Naive##25000</th>\n",
              "      <td>25.190977</td>\n",
              "      <td>unique_Naive</td>\n",
              "      <td>25000</td>\n",
              "    </tr>\n",
              "    <tr>\n",
              "      <th>unique_Sort##25000</th>\n",
              "      <td>0.013345</td>\n",
              "      <td>unique_Sort</td>\n",
              "      <td>25000</td>\n",
              "    </tr>\n",
              "    <tr>\n",
              "      <th>unique_Hash##25000</th>\n",
              "      <td>0.005511</td>\n",
              "      <td>unique_Hash</td>\n",
              "      <td>25000</td>\n",
              "    </tr>\n",
              "  </tbody>\n",
              "</table>\n",
              "</div>"
            ],
            "text/plain": [
              "                          Time     Algorithm   Size\n",
              "unique_Naive##5000    3.082502  unique_Naive   5000\n",
              "unique_Sort##5000     0.003025   unique_Sort   5000\n",
              "unique_Hash##5000     0.002111   unique_Hash   5000\n",
              "unique_Naive##10000   9.009892  unique_Naive  10000\n",
              "unique_Sort##10000    0.006381   unique_Sort  10000\n",
              "unique_Hash##10000    0.003212   unique_Hash  10000\n",
              "unique_Naive##15000  15.909494  unique_Naive  15000\n",
              "unique_Sort##15000    0.009163   unique_Sort  15000\n",
              "unique_Hash##15000    0.004115   unique_Hash  15000\n",
              "unique_Naive##20000  23.691444  unique_Naive  20000\n",
              "unique_Sort##20000    0.011342   unique_Sort  20000\n",
              "unique_Hash##20000    0.005188   unique_Hash  20000\n",
              "unique_Naive##25000  25.190977  unique_Naive  25000\n",
              "unique_Sort##25000    0.013345   unique_Sort  25000\n",
              "unique_Hash##25000    0.005511   unique_Hash  25000"
            ]
          },
          "metadata": {
            "tags": []
          },
          "execution_count": 36
        }
      ]
    },
    {
      "cell_type": "markdown",
      "metadata": {
        "id": "EttLgpJu9NSq"
      },
      "source": [
        "Resultado do experimento (gráfico)"
      ]
    },
    {
      "cell_type": "code",
      "metadata": {
        "id": "6-fc0MDFIdQM",
        "colab": {
          "base_uri": "https://localhost:8080/",
          "height": 611
        },
        "outputId": "c4203b5e-5295-4c78-b06d-91e7bcef055b"
      },
      "source": [
        "import seaborn as sns\n",
        "%matplotlib inline\n",
        "import matplotlib.pyplot as plt\n",
        "\n",
        "##Defines font size and line width\n",
        "sns.set(font_scale=1, style=\"ticks\", rc={\"lines.linewidth\": 2})\n",
        "\n",
        "##Defines plot size\n",
        "plt.rcParams['figure.figsize'] = [20, 10]\n",
        "\n",
        "g = sns.lineplot(x='Size', y='Time', hue='Algorithm', data=df)\n",
        "g.set_yscale('log')\n",
        "g.set(xticks=[i for i in df.Size])\n",
        "plt.show()"
      ],
      "execution_count": 37,
      "outputs": [
        {
          "output_type": "display_data",
          "data": {
            "image/png": "[encoded data removed]",
            "text/plain": [
              "<Figure size 1440x720 with 1 Axes>"
            ]
          },
          "metadata": {
            "tags": []
          }
        }
      ]
    }
  ]
}