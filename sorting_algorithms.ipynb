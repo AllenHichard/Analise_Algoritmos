{
  "nbformat": 4,
  "nbformat_minor": 0,
  "metadata": {
    "colab": {
      "name": "UniqueItems.ipynb",
      "provenance": [],
      "collapsed_sections": [],
      "include_colab_link": true
    },
    "kernelspec": {
      "name": "python3",
      "display_name": "Python 3"
    }
  },
  "cells": [
    {
      "cell_type": "markdown",
      "metadata": {
        "id": "view-in-github",
        "colab_type": "text"
      },
      "source": [
        "<a href=\"https://colab.research.google.com/github/AllenHichard/Analise_Algoritmos/blob/main/Ordenacao.ipynb\" target=\"_parent\"><img src=\"https://colab.research.google.com/assets/colab-badge.svg\" alt=\"Open In Colab\"/></a>"
      ]
    },
    {
      "cell_type": "markdown",
      "metadata": {
        "id": "EoORkOphIMc-"
      },
      "source": [
        "Algoritmos"
      ]
    },
    {
      "cell_type": "code",
      "metadata": {
        "id": "dwcSIPydC8pn"
      },
      "source": [
        "def bubble_sort(A):\n",
        "    for i in range(len(A)-1, 0, -1):\n",
        "        for j in range(0, i):\n",
        "            if (A[j+1] < A[j]):\n",
        "                A[j], A[j+1] = A[j+1], A[j]\n",
        "    return A\n",
        "\n",
        "\n",
        "def tim_sort(A): #l,r,k foram introduzidos para faciltiar a chamada de funções\n",
        "    return  sorted(A)\n",
        "\n",
        "\n",
        "def merge_sort(vetor, aux, esquerda, direita):\n",
        "    if direita <= esquerda:\n",
        "        return\n",
        "    centro = (esquerda + direita) // 2\n",
        "    merge_sort(vetor, aux, esquerda, centro)\n",
        "    merge_sort(vetor, aux, centro + 1, direita)\n",
        "    merge(vetor, aux, esquerda, centro, direita)\n",
        "\n",
        "def merge(vetor, aux, esquerda, centro, direita):\n",
        "    i = esquerda\n",
        "    j = centro + 1\n",
        "    for index in range(esquerda, direita + 1):\n",
        "        aux[index] = vetor[index]\n",
        "    for index in range(esquerda, direita + 1):\n",
        "        if i > centro:\n",
        "            vetor[index] = aux[j]\n",
        "            j += 1\n",
        "        elif j > direita:\n",
        "            vetor[index] = aux[i]\n",
        "            i += 1\n",
        "        elif aux[j] < aux[i]:\n",
        "            vetor[index] = aux[j]\n",
        "            j += 1\n",
        "        else:\n",
        "            vetor[index] = aux[i]\n",
        "            i += 1\n",
        "\n",
        "\n",
        "  "
      ],
      "execution_count": 14,
      "outputs": []
    },
    {
      "cell_type": "markdown",
      "metadata": {
        "id": "QSVa8JepIU5d"
      },
      "source": [
        "Coleta de dados dos experimentos"
      ]
    },
    {
      "cell_type": "code",
      "metadata": {
        "id": "UrHF7SQDERih",
        "colab": {
          "base_uri": "https://localhost:8080/"
        },
        "outputId": "509c3aba-ec55-495e-8ebb-edd8aa6ed0a5"
      },
      "source": [
        "import time\n",
        "from numpy import random\n",
        "DOMAIN = 1000 ##Você deve escolher um valor mais adequado\n",
        "def avg_time(domain, tam, func, rounds): \n",
        "  sum = float(0)\n",
        "  for i in range(rounds):\n",
        "    #create a list with random numbers\n",
        "    random.seed(i)\n",
        "    L=list(random.randint(tam+domain, size=tam))\n",
        "    start = time.time()    \n",
        "    aux = [0] * len(L)\n",
        "    try:\n",
        "      func(L, aux, 0, len(L) - 1) \n",
        "    except:\n",
        "      func(L) \n",
        "    end = time.time()\n",
        "    sum += end-start\n",
        "  return sum/rounds\n",
        "\n",
        "#defines the algorithms to be processed\n",
        "algorithms = [bubble_sort, tim_sort, merge_sort]\n",
        "\n",
        "#defines the number of times each algorithm will be processed to find the average time\n",
        "num_rounds = 10\n",
        "\n",
        "sizes = [500,1000,1500,2000,2500] ##você deve escolher tamanhos mais adequados\n",
        "mapSizeToTime = dict()\n",
        "for i in range(len(sizes)):\n",
        "  print(f\"Starting experiments for datasets with size={sizes[i]}, each experiment has {num_rounds} rounds.\")\n",
        "  \n",
        "  ##Map list size to algorithm average time\n",
        "  for algorithm in algorithms:      \n",
        "    mapSizeToTime[f\"{algorithm.__name__ }##{sizes[i]}\"] = avg_time(DOMAIN, sizes[i], algorithm, num_rounds)\n",
        "  \n",
        "print(f\"Finish data collection\")"
      ],
      "execution_count": 17,
      "outputs": [
        {
          "output_type": "stream",
          "text": [
            "Starting experiments for datasets with size=500, each experiment has 10 rounds.\n",
            "Starting experiments for datasets with size=1000, each experiment has 10 rounds.\n",
            "Starting experiments for datasets with size=1500, each experiment has 10 rounds.\n",
            "Starting experiments for datasets with size=2000, each experiment has 10 rounds.\n",
            "Starting experiments for datasets with size=2500, each experiment has 10 rounds.\n",
            "Finish data collection\n"
          ],
          "name": "stdout"
        }
      ]
    },
    {
      "cell_type": "markdown",
      "metadata": {
        "id": "ERQNwuNtIdA7"
      },
      "source": [
        "Formata os dados do experimento para serem exibidos"
      ]
    },
    {
      "cell_type": "code",
      "metadata": {
        "id": "cJP-IzymQtk5",
        "colab": {
          "base_uri": "https://localhost:8080/",
          "height": 474
        },
        "outputId": "30741c5e-5755-4fbf-9aa2-8e728f29551a"
      },
      "source": [
        "import pandas as pd\n",
        "df = pd.DataFrame.from_dict(mapSizeToTime, orient='index',columns=['Time'])\n",
        "df['Algorithm'] = [i.split(\"##\")[0] for i in df.index]\n",
        "df['Size'] = [int(i.split(\"##\")[1]) for i in df.index]\n",
        "df"
      ],
      "execution_count": 18,
      "outputs": [
        {
          "output_type": "execute_result",
          "data": {
            "text/html": [
              "<div>\n",
              "<style scoped>\n",
              "    .dataframe tbody tr th:only-of-type {\n",
              "        vertical-align: middle;\n",
              "    }\n",
              "\n",
              "    .dataframe tbody tr th {\n",
              "        vertical-align: top;\n",
              "    }\n",
              "\n",
              "    .dataframe thead th {\n",
              "        text-align: right;\n",
              "    }\n",
              "</style>\n",
              "<table border=\"1\" class=\"dataframe\">\n",
              "  <thead>\n",
              "    <tr style=\"text-align: right;\">\n",
              "      <th></th>\n",
              "      <th>Time</th>\n",
              "      <th>Algorithm</th>\n",
              "      <th>Size</th>\n",
              "    </tr>\n",
              "  </thead>\n",
              "  <tbody>\n",
              "    <tr>\n",
              "      <th>bubble_sort##500</th>\n",
              "      <td>0.024978</td>\n",
              "      <td>bubble_sort</td>\n",
              "      <td>500</td>\n",
              "    </tr>\n",
              "    <tr>\n",
              "      <th>tim_sort##500</th>\n",
              "      <td>0.000110</td>\n",
              "      <td>tim_sort</td>\n",
              "      <td>500</td>\n",
              "    </tr>\n",
              "    <tr>\n",
              "      <th>merge_sort##500</th>\n",
              "      <td>0.002052</td>\n",
              "      <td>merge_sort</td>\n",
              "      <td>500</td>\n",
              "    </tr>\n",
              "    <tr>\n",
              "      <th>bubble_sort##1000</th>\n",
              "      <td>0.108748</td>\n",
              "      <td>bubble_sort</td>\n",
              "      <td>1000</td>\n",
              "    </tr>\n",
              "    <tr>\n",
              "      <th>tim_sort##1000</th>\n",
              "      <td>0.000237</td>\n",
              "      <td>tim_sort</td>\n",
              "      <td>1000</td>\n",
              "    </tr>\n",
              "    <tr>\n",
              "      <th>merge_sort##1000</th>\n",
              "      <td>0.005009</td>\n",
              "      <td>merge_sort</td>\n",
              "      <td>1000</td>\n",
              "    </tr>\n",
              "    <tr>\n",
              "      <th>bubble_sort##1500</th>\n",
              "      <td>0.244638</td>\n",
              "      <td>bubble_sort</td>\n",
              "      <td>1500</td>\n",
              "    </tr>\n",
              "    <tr>\n",
              "      <th>tim_sort##1500</th>\n",
              "      <td>0.000375</td>\n",
              "      <td>tim_sort</td>\n",
              "      <td>1500</td>\n",
              "    </tr>\n",
              "    <tr>\n",
              "      <th>merge_sort##1500</th>\n",
              "      <td>0.007717</td>\n",
              "      <td>merge_sort</td>\n",
              "      <td>1500</td>\n",
              "    </tr>\n",
              "    <tr>\n",
              "      <th>bubble_sort##2000</th>\n",
              "      <td>0.443355</td>\n",
              "      <td>bubble_sort</td>\n",
              "      <td>2000</td>\n",
              "    </tr>\n",
              "    <tr>\n",
              "      <th>tim_sort##2000</th>\n",
              "      <td>0.000517</td>\n",
              "      <td>tim_sort</td>\n",
              "      <td>2000</td>\n",
              "    </tr>\n",
              "    <tr>\n",
              "      <th>merge_sort##2000</th>\n",
              "      <td>0.010026</td>\n",
              "      <td>merge_sort</td>\n",
              "      <td>2000</td>\n",
              "    </tr>\n",
              "    <tr>\n",
              "      <th>bubble_sort##2500</th>\n",
              "      <td>0.683365</td>\n",
              "      <td>bubble_sort</td>\n",
              "      <td>2500</td>\n",
              "    </tr>\n",
              "    <tr>\n",
              "      <th>tim_sort##2500</th>\n",
              "      <td>0.000675</td>\n",
              "      <td>tim_sort</td>\n",
              "      <td>2500</td>\n",
              "    </tr>\n",
              "    <tr>\n",
              "      <th>merge_sort##2500</th>\n",
              "      <td>0.012951</td>\n",
              "      <td>merge_sort</td>\n",
              "      <td>2500</td>\n",
              "    </tr>\n",
              "  </tbody>\n",
              "</table>\n",
              "</div>"
            ],
            "text/plain": [
              "                       Time    Algorithm  Size\n",
              "bubble_sort##500   0.024978  bubble_sort   500\n",
              "tim_sort##500      0.000110     tim_sort   500\n",
              "merge_sort##500    0.002052   merge_sort   500\n",
              "bubble_sort##1000  0.108748  bubble_sort  1000\n",
              "tim_sort##1000     0.000237     tim_sort  1000\n",
              "merge_sort##1000   0.005009   merge_sort  1000\n",
              "bubble_sort##1500  0.244638  bubble_sort  1500\n",
              "tim_sort##1500     0.000375     tim_sort  1500\n",
              "merge_sort##1500   0.007717   merge_sort  1500\n",
              "bubble_sort##2000  0.443355  bubble_sort  2000\n",
              "tim_sort##2000     0.000517     tim_sort  2000\n",
              "merge_sort##2000   0.010026   merge_sort  2000\n",
              "bubble_sort##2500  0.683365  bubble_sort  2500\n",
              "tim_sort##2500     0.000675     tim_sort  2500\n",
              "merge_sort##2500   0.012951   merge_sort  2500"
            ]
          },
          "metadata": {
            "tags": []
          },
          "execution_count": 18
        }
      ]
    },
    {
      "cell_type": "markdown",
      "metadata": {
        "id": "EttLgpJu9NSq"
      },
      "source": [
        "Resultado do experimento (gráfico)"
      ]
    },
    {
      "cell_type": "code",
      "metadata": {
        "id": "6-fc0MDFIdQM",
        "colab": {
          "base_uri": "https://localhost:8080/",
          "height": 613
        },
        "outputId": "63c485fa-01b6-4e7b-b765-54141b46cd23"
      },
      "source": [
        "import seaborn as sns\n",
        "%matplotlib inline\n",
        "import matplotlib.pyplot as plt\n",
        "\n",
        "##Defines font size and line width\n",
        "sns.set(font_scale=1, style=\"ticks\", rc={\"lines.linewidth\": 2})\n",
        "\n",
        "##Defines plot size\n",
        "plt.rcParams['figure.figsize'] = [20, 10]\n",
        "\n",
        "g = sns.lineplot(x='Size', y='Time', hue='Algorithm', data=df)\n",
        "g.set_yscale('log')\n",
        "g.set(xticks=[i for i in df.Size])\n",
        "plt.show()"
      ],
      "execution_count": 19,
      "outputs": [
        {
          "output_type": "display_data",
          "data": {
            "image/png": "[encoded data removed]",
            "text/plain": [
              "<Figure size 1440x720 with 1 Axes>"
            ]
          },
          "metadata": {
            "tags": []
          }
        }
      ]
    }
  ]
}