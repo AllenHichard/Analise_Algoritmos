{
  "nbformat": 4,
  "nbformat_minor": 0,
  "metadata": {
    "colab": {
      "name": "UniqueItems.ipynb",
      "provenance": [],
      "collapsed_sections": [],
      "include_colab_link": true
    },
    "kernelspec": {
      "name": "python3",
      "display_name": "Python 3"
    }
  },
  "cells": [
    {
      "cell_type": "markdown",
      "metadata": {
        "id": "view-in-github",
        "colab_type": "text"
      },
      "source": [
        "<a href=\"https://colab.research.google.com/github/AllenHichard/Analise_Algoritmos/blob/main/Mediana.ipynb\" target=\"_parent\"><img src=\"https://colab.research.google.com/assets/colab-badge.svg\" alt=\"Open In Colab\"/></a>"
      ]
    },
    {
      "cell_type": "markdown",
      "metadata": {
        "id": "EoORkOphIMc-"
      },
      "source": [
        "def Algoritmos"
      ]
    },
    {
      "cell_type": "code",
      "metadata": {
        "id": "dwcSIPydC8pn"
      },
      "source": [
        "\n",
        "\n",
        "def merge_sort(vetor, aux, esquerda, direita):\n",
        "    if direita <= esquerda:\n",
        "        return\n",
        "    centro = (esquerda + direita) // 2\n",
        "    merge_sort(vetor, aux, esquerda, centro)\n",
        "    merge_sort(vetor, aux, centro + 1, direita)\n",
        "    merge(vetor, aux, esquerda, centro, direita)\n",
        "    return vetor\n",
        "\n",
        "def merge(vetor, aux, esquerda, centro, direita):\n",
        "    i = esquerda\n",
        "    j = centro + 1\n",
        "    for index in range(esquerda, direita + 1):\n",
        "        aux[index] = vetor[index]\n",
        "    for index in range(esquerda, direita + 1):\n",
        "        if i > centro:\n",
        "            vetor[index] = aux[j]\n",
        "            j += 1\n",
        "        elif j > direita:\n",
        "            vetor[index] = aux[i]\n",
        "            i += 1\n",
        "        elif aux[j] < aux[i]:\n",
        "            vetor[index] = aux[j]\n",
        "            j += 1\n",
        "        else:\n",
        "            vetor[index] = aux[i]\n",
        "            i += 1\n",
        "\n",
        "def lomuto_partition(A, l, r):\n",
        "    p = A[l]\n",
        "    s = l\n",
        "    for i in range(l+1, r):\n",
        "        if A[i] < p:\n",
        "            s += 1\n",
        "            A[s], A[i] = A[i], A[s]\n",
        "    A[l], A[s] = A[s], A[l]\n",
        "    return s\n",
        "\n",
        "def mediana_Naive(vetor, aux, esquerda, direita): #l,r,k foram introduzidos para faciltiar a chamada de funções\n",
        "    #testemediana = sorted(vetor)[int((len(vetor)-1)/2)]\n",
        "    A = merge_sort(vetor, aux, esquerda, direita)\n",
        "    mediana = A[int((len(A)-1)/2)]  #len(L)-1 to pick up the left element for the even size vector\n",
        "    #print(A[int((len(A)-1)/2)] == testemediana)\n",
        "    return mediana\n",
        "\n",
        "def mediana_QuickSelect(A, l, r, k):\n",
        "    s = lomuto_partition(A,l,r)\n",
        "    if s == k-1:\n",
        "        mediana = A[s]\n",
        "        #print(sorted(A)[int((len(A)-1)/2)] == mediana)\n",
        "        return mediana\n",
        "    else:\n",
        "        if s > k-1:\n",
        "            return mediana_QuickSelect(A, l, s, k) # retirei o -1 do terceiro parâmetro por causa do intervalo aberto (range do for)\n",
        "        else:\n",
        "            return mediana_QuickSelect(A, s+1, r, k)\n",
        "\n",
        "  "
      ],
      "execution_count": 1,
      "outputs": []
    },
    {
      "cell_type": "markdown",
      "metadata": {
        "id": "QSVa8JepIU5d"
      },
      "source": [
        "Coleta de dados dos experimentos"
      ]
    },
    {
      "cell_type": "code",
      "metadata": {
        "id": "UrHF7SQDERih",
        "colab": {
          "base_uri": "https://localhost:8080/"
        },
        "outputId": "d038702a-7bac-492c-8ee7-7030b433c52e"
      },
      "source": [
        "import time\n",
        "from numpy import random\n",
        "DOMAIN = 10000000 ##Você deve escolher um valor mais adequado\n",
        "def avg_time(domain, tam, func, rounds): \n",
        "  sum = float(0)\n",
        "  for i in range(rounds):\n",
        "    #create a list with random numbers\n",
        "    random.seed(i)\n",
        "    L=list(random.randint(tam+domain, size=tam))\n",
        "    start = time.time()\n",
        "    try:    \n",
        "      k = int((len(L)+1)/2)\n",
        "      func(L, 0, len(L), k)\n",
        "    except:\n",
        "      aux = [0] * len(L)\n",
        "      func(L, aux, 0, len(L) - 1) \n",
        "    end = time.time()\n",
        "    sum += end-start\n",
        "  return sum/rounds\n",
        "\n",
        "#defines the algorithms to be processed\n",
        "algorithms = [mediana_Naive, mediana_QuickSelect]\n",
        "\n",
        "#defines the number of times each algorithm will be processed to find the average time\n",
        "num_rounds = 100\n",
        "\n",
        "sizes = [1000,2000,3000,4000,5000] ##você deve escolher tamanhos mais adequados\n",
        "mapSizeToTime = dict()\n",
        "for i in range(len(sizes)):\n",
        "  print(f\"Starting experiments for datasets with size={sizes[i]}, each experiment has {num_rounds} rounds.\")\n",
        "  \n",
        "  ##Map list size to algorithm average time\n",
        "  for algorithm in algorithms:      \n",
        "    mapSizeToTime[f\"{algorithm.__name__ }##{sizes[i]}\"] = avg_time(DOMAIN, sizes[i], algorithm, num_rounds)\n",
        "  \n",
        "print(f\"Finish data collection\")"
      ],
      "execution_count": 5,
      "outputs": [
        {
          "output_type": "stream",
          "text": [
            "Starting experiments for datasets with size=1000, each experiment has 100 rounds.\n",
            "Starting experiments for datasets with size=2000, each experiment has 100 rounds.\n",
            "Starting experiments for datasets with size=3000, each experiment has 100 rounds.\n",
            "Starting experiments for datasets with size=4000, each experiment has 100 rounds.\n",
            "Starting experiments for datasets with size=5000, each experiment has 100 rounds.\n",
            "Finish data collection\n"
          ],
          "name": "stdout"
        }
      ]
    },
    {
      "cell_type": "markdown",
      "metadata": {
        "id": "ERQNwuNtIdA7"
      },
      "source": [
        "Formata os dados do experimento para serem exibidos"
      ]
    },
    {
      "cell_type": "code",
      "metadata": {
        "id": "cJP-IzymQtk5",
        "colab": {
          "base_uri": "https://localhost:8080/",
          "height": 347
        },
        "outputId": "bab3f0bc-2669-474e-f92b-7d873f31dcd8"
      },
      "source": [
        "import pandas as pd\n",
        "df = pd.DataFrame.from_dict(mapSizeToTime, orient='index',columns=['Time'])\n",
        "df['Algorithm'] = [i.split(\"##\")[0] for i in df.index]\n",
        "df['Size'] = [int(i.split(\"##\")[1]) for i in df.index]\n",
        "df"
      ],
      "execution_count": 6,
      "outputs": [
        {
          "output_type": "execute_result",
          "data": {
            "text/html": [
              "<div>\n",
              "<style scoped>\n",
              "    .dataframe tbody tr th:only-of-type {\n",
              "        vertical-align: middle;\n",
              "    }\n",
              "\n",
              "    .dataframe tbody tr th {\n",
              "        vertical-align: top;\n",
              "    }\n",
              "\n",
              "    .dataframe thead th {\n",
              "        text-align: right;\n",
              "    }\n",
              "</style>\n",
              "<table border=\"1\" class=\"dataframe\">\n",
              "  <thead>\n",
              "    <tr style=\"text-align: right;\">\n",
              "      <th></th>\n",
              "      <th>Time</th>\n",
              "      <th>Algorithm</th>\n",
              "      <th>Size</th>\n",
              "    </tr>\n",
              "  </thead>\n",
              "  <tbody>\n",
              "    <tr>\n",
              "      <th>mediana_Naive##1000</th>\n",
              "      <td>0.004873</td>\n",
              "      <td>mediana_Naive</td>\n",
              "      <td>1000</td>\n",
              "    </tr>\n",
              "    <tr>\n",
              "      <th>mediana_QuickSelect##1000</th>\n",
              "      <td>0.000516</td>\n",
              "      <td>mediana_QuickSelect</td>\n",
              "      <td>1000</td>\n",
              "    </tr>\n",
              "    <tr>\n",
              "      <th>mediana_Naive##2000</th>\n",
              "      <td>0.010753</td>\n",
              "      <td>mediana_Naive</td>\n",
              "      <td>2000</td>\n",
              "    </tr>\n",
              "    <tr>\n",
              "      <th>mediana_QuickSelect##2000</th>\n",
              "      <td>0.001195</td>\n",
              "      <td>mediana_QuickSelect</td>\n",
              "      <td>2000</td>\n",
              "    </tr>\n",
              "    <tr>\n",
              "      <th>mediana_Naive##3000</th>\n",
              "      <td>0.016628</td>\n",
              "      <td>mediana_Naive</td>\n",
              "      <td>3000</td>\n",
              "    </tr>\n",
              "    <tr>\n",
              "      <th>mediana_QuickSelect##3000</th>\n",
              "      <td>0.001776</td>\n",
              "      <td>mediana_QuickSelect</td>\n",
              "      <td>3000</td>\n",
              "    </tr>\n",
              "    <tr>\n",
              "      <th>mediana_Naive##4000</th>\n",
              "      <td>0.023044</td>\n",
              "      <td>mediana_Naive</td>\n",
              "      <td>4000</td>\n",
              "    </tr>\n",
              "    <tr>\n",
              "      <th>mediana_QuickSelect##4000</th>\n",
              "      <td>0.002239</td>\n",
              "      <td>mediana_QuickSelect</td>\n",
              "      <td>4000</td>\n",
              "    </tr>\n",
              "    <tr>\n",
              "      <th>mediana_Naive##5000</th>\n",
              "      <td>0.028971</td>\n",
              "      <td>mediana_Naive</td>\n",
              "      <td>5000</td>\n",
              "    </tr>\n",
              "    <tr>\n",
              "      <th>mediana_QuickSelect##5000</th>\n",
              "      <td>0.002771</td>\n",
              "      <td>mediana_QuickSelect</td>\n",
              "      <td>5000</td>\n",
              "    </tr>\n",
              "  </tbody>\n",
              "</table>\n",
              "</div>"
            ],
            "text/plain": [
              "                               Time            Algorithm  Size\n",
              "mediana_Naive##1000        0.004873        mediana_Naive  1000\n",
              "mediana_QuickSelect##1000  0.000516  mediana_QuickSelect  1000\n",
              "mediana_Naive##2000        0.010753        mediana_Naive  2000\n",
              "mediana_QuickSelect##2000  0.001195  mediana_QuickSelect  2000\n",
              "mediana_Naive##3000        0.016628        mediana_Naive  3000\n",
              "mediana_QuickSelect##3000  0.001776  mediana_QuickSelect  3000\n",
              "mediana_Naive##4000        0.023044        mediana_Naive  4000\n",
              "mediana_QuickSelect##4000  0.002239  mediana_QuickSelect  4000\n",
              "mediana_Naive##5000        0.028971        mediana_Naive  5000\n",
              "mediana_QuickSelect##5000  0.002771  mediana_QuickSelect  5000"
            ]
          },
          "metadata": {
            "tags": []
          },
          "execution_count": 6
        }
      ]
    },
    {
      "cell_type": "markdown",
      "metadata": {
        "id": "EttLgpJu9NSq"
      },
      "source": [
        "Resultado do experimento (gráfico)"
      ]
    },
    {
      "cell_type": "code",
      "metadata": {
        "id": "6-fc0MDFIdQM",
        "colab": {
          "base_uri": "https://localhost:8080/",
          "height": 611
        },
        "outputId": "3d8977ac-004e-418b-ce6c-70e13bd0b428"
      },
      "source": [
        "import seaborn as sns\n",
        "%matplotlib inline\n",
        "import matplotlib.pyplot as plt\n",
        "\n",
        "##Defines font size and line width\n",
        "sns.set(font_scale=1, style=\"ticks\", rc={\"lines.linewidth\": 2})\n",
        "\n",
        "##Defines plot size\n",
        "plt.rcParams['figure.figsize'] = [20, 10]\n",
        "\n",
        "g = sns.lineplot(x='Size', y='Time', hue='Algorithm', data=df)\n",
        "g.set_yscale('log')\n",
        "g.set(xticks=[i for i in df.Size])\n",
        "plt.show()"
      ],
      "execution_count": 7,
      "outputs": [
        {
          "output_type": "display_data",
          "data": {
            "image/png": "[encoded data removed]",
            "text/plain": [
              "<Figure size 1440x720 with 1 Axes>"
            ]
          },
          "metadata": {
            "tags": []
          }
        }
      ]
    }
  ]
}