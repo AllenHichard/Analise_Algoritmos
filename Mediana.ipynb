{
  "nbformat": 4,
  "nbformat_minor": 0,
  "metadata": {
    "colab": {
      "name": "UniqueItems.ipynb",
      "provenance": [],
      "collapsed_sections": [],
      "include_colab_link": true
    },
    "kernelspec": {
      "name": "python3",
      "display_name": "Python 3"
    }
  },
  "cells": [
    {
      "cell_type": "markdown",
      "metadata": {
        "id": "view-in-github",
        "colab_type": "text"
      },
      "source": [
        "<a href=\"https://colab.research.google.com/github/AllenHichard/Analise_Algoritmos/blob/main/Mediana.ipynb\" target=\"_parent\"><img src=\"https://colab.research.google.com/assets/colab-badge.svg\" alt=\"Open In Colab\"/></a>"
      ]
    },
    {
      "cell_type": "markdown",
      "metadata": {
        "id": "EoORkOphIMc-"
      },
      "source": [
        "Algoritmos"
      ]
    },
    {
      "cell_type": "code",
      "metadata": {
        "id": "dwcSIPydC8pn"
      },
      "source": [
        "\n",
        "def mediana_Naive(L):\n",
        "    L = sorted(L)\n",
        "    print(\"Ordenado - \", L)\n",
        "    return L[int((len(L)-1)/2)] #len(L)-1 to pick up the left element for the even size vector\n",
        "  "
      ],
      "execution_count": null,
      "outputs": []
    },
    {
      "cell_type": "markdown",
      "metadata": {
        "id": "QSVa8JepIU5d"
      },
      "source": [
        "Coleta de dados dos experimentos"
      ]
    },
    {
      "cell_type": "code",
      "metadata": {
        "id": "UrHF7SQDERih",
        "colab": {
          "base_uri": "https://localhost:8080/"
        },
        "outputId": "9c56b2a4-fa99-46c2-f280-8e6bdc98bbb8"
      },
      "source": [
        "import time\n",
        "from numpy import random\n",
        "DOMAIN = 100 ##Você deve escolher um valor mais adequado\n",
        "def avg_time(domain, tam, func, rounds): \n",
        "  sum = float(0)\n",
        "  for i in range(rounds):\n",
        "    #create a list with random numbers\n",
        "    random.seed(i)\n",
        "    L=list(random.randint(tam+domain, size=tam))\n",
        " \n",
        "    start = time.time()    \n",
        "    func(L)\n",
        "    end = time.time()\n",
        "    sum += end-start\n",
        "  return sum/rounds\n",
        "\n",
        "#defines the algorithms to be processed\n",
        "algorithms = [mediana_Naive, mediana_QuickSelect]\n",
        "\n",
        "#defines the number of times each algorithm will be processed to find the average time\n",
        "num_rounds = 1000 \n",
        "\n",
        "sizes = [5,10,15,20,25] ##você deve escolher tamanhos mais adequados\n",
        "mapSizeToTime = dict()\n",
        "for i in range(len(sizes)):\n",
        "  print(f\"Starting experiments for datasets with size={sizes[i]}, each experiment has {num_rounds} rounds.\")\n",
        "  \n",
        "  ##Map list size to algorithm average time\n",
        "  for algorithm in algorithms:      \n",
        "    mapSizeToTime[f\"{algorithm.__name__ }##{sizes[i]}\"] = avg_time(DOMAIN, sizes[i], algorithm, num_rounds)\n",
        "  \n",
        "print(f\"Finish data collection\")"
      ],
      "execution_count": null,
      "outputs": [
        {
          "output_type": "stream",
          "text": [
            "Starting experiments for datasets with size=5, each experiment has 1000 rounds.\n",
            "Starting experiments for datasets with size=10, each experiment has 1000 rounds.\n",
            "Starting experiments for datasets with size=15, each experiment has 1000 rounds.\n",
            "Starting experiments for datasets with size=20, each experiment has 1000 rounds.\n",
            "Starting experiments for datasets with size=25, each experiment has 1000 rounds.\n",
            "Finish data collection\n"
          ],
          "name": "stdout"
        }
      ]
    },
    {
      "cell_type": "markdown",
      "metadata": {
        "id": "ERQNwuNtIdA7"
      },
      "source": [
        "Formata os dados do experimento para serem exibidos"
      ]
    },
    {
      "cell_type": "code",
      "metadata": {
        "id": "cJP-IzymQtk5",
        "colab": {
          "base_uri": "https://localhost:8080/",
          "height": 509
        },
        "outputId": "0f8d5afd-11f0-4478-ec25-5a124874b2b5"
      },
      "source": [
        "import pandas as pd\n",
        "df = pd.DataFrame.from_dict(mapSizeToTime, orient='index',columns=['Time'])\n",
        "df['Algorithm'] = [i.split(\"##\")[0] for i in df.index]\n",
        "df['Size'] = [int(i.split(\"##\")[1]) for i in df.index]\n",
        "df"
      ],
      "execution_count": null,
      "outputs": [
        {
          "output_type": "execute_result",
          "data": {
            "text/html": [
              "<div>\n",
              "<style scoped>\n",
              "    .dataframe tbody tr th:only-of-type {\n",
              "        vertical-align: middle;\n",
              "    }\n",
              "\n",
              "    .dataframe tbody tr th {\n",
              "        vertical-align: top;\n",
              "    }\n",
              "\n",
              "    .dataframe thead th {\n",
              "        text-align: right;\n",
              "    }\n",
              "</style>\n",
              "<table border=\"1\" class=\"dataframe\">\n",
              "  <thead>\n",
              "    <tr style=\"text-align: right;\">\n",
              "      <th></th>\n",
              "      <th>Time</th>\n",
              "      <th>Algorithm</th>\n",
              "      <th>Size</th>\n",
              "    </tr>\n",
              "  </thead>\n",
              "  <tbody>\n",
              "    <tr>\n",
              "      <th>unique_Naive##5</th>\n",
              "      <td>0.000006</td>\n",
              "      <td>unique_Naive</td>\n",
              "      <td>5</td>\n",
              "    </tr>\n",
              "    <tr>\n",
              "      <th>unique_Sort##5</th>\n",
              "      <td>0.000004</td>\n",
              "      <td>unique_Sort</td>\n",
              "      <td>5</td>\n",
              "    </tr>\n",
              "    <tr>\n",
              "      <th>unique_Hash##5</th>\n",
              "      <td>0.000002</td>\n",
              "      <td>unique_Hash</td>\n",
              "      <td>5</td>\n",
              "    </tr>\n",
              "    <tr>\n",
              "      <th>unique_Naive##10</th>\n",
              "      <td>0.000010</td>\n",
              "      <td>unique_Naive</td>\n",
              "      <td>10</td>\n",
              "    </tr>\n",
              "    <tr>\n",
              "      <th>unique_Sort##10</th>\n",
              "      <td>0.000003</td>\n",
              "      <td>unique_Sort</td>\n",
              "      <td>10</td>\n",
              "    </tr>\n",
              "    <tr>\n",
              "      <th>unique_Hash##10</th>\n",
              "      <td>0.000003</td>\n",
              "      <td>unique_Hash</td>\n",
              "      <td>10</td>\n",
              "    </tr>\n",
              "    <tr>\n",
              "      <th>unique_Naive##15</th>\n",
              "      <td>0.000014</td>\n",
              "      <td>unique_Naive</td>\n",
              "      <td>15</td>\n",
              "    </tr>\n",
              "    <tr>\n",
              "      <th>unique_Sort##15</th>\n",
              "      <td>0.000004</td>\n",
              "      <td>unique_Sort</td>\n",
              "      <td>15</td>\n",
              "    </tr>\n",
              "    <tr>\n",
              "      <th>unique_Hash##15</th>\n",
              "      <td>0.000004</td>\n",
              "      <td>unique_Hash</td>\n",
              "      <td>15</td>\n",
              "    </tr>\n",
              "    <tr>\n",
              "      <th>unique_Naive##20</th>\n",
              "      <td>0.000034</td>\n",
              "      <td>unique_Naive</td>\n",
              "      <td>20</td>\n",
              "    </tr>\n",
              "    <tr>\n",
              "      <th>unique_Sort##20</th>\n",
              "      <td>0.000008</td>\n",
              "      <td>unique_Sort</td>\n",
              "      <td>20</td>\n",
              "    </tr>\n",
              "    <tr>\n",
              "      <th>unique_Hash##20</th>\n",
              "      <td>0.000004</td>\n",
              "      <td>unique_Hash</td>\n",
              "      <td>20</td>\n",
              "    </tr>\n",
              "    <tr>\n",
              "      <th>unique_Naive##25</th>\n",
              "      <td>0.000029</td>\n",
              "      <td>unique_Naive</td>\n",
              "      <td>25</td>\n",
              "    </tr>\n",
              "    <tr>\n",
              "      <th>unique_Sort##25</th>\n",
              "      <td>0.000005</td>\n",
              "      <td>unique_Sort</td>\n",
              "      <td>25</td>\n",
              "    </tr>\n",
              "    <tr>\n",
              "      <th>unique_Hash##25</th>\n",
              "      <td>0.000005</td>\n",
              "      <td>unique_Hash</td>\n",
              "      <td>25</td>\n",
              "    </tr>\n",
              "  </tbody>\n",
              "</table>\n",
              "</div>"
            ],
            "text/plain": [
              "                      Time     Algorithm  Size\n",
              "unique_Naive##5   0.000006  unique_Naive     5\n",
              "unique_Sort##5    0.000004   unique_Sort     5\n",
              "unique_Hash##5    0.000002   unique_Hash     5\n",
              "unique_Naive##10  0.000010  unique_Naive    10\n",
              "unique_Sort##10   0.000003   unique_Sort    10\n",
              "unique_Hash##10   0.000003   unique_Hash    10\n",
              "unique_Naive##15  0.000014  unique_Naive    15\n",
              "unique_Sort##15   0.000004   unique_Sort    15\n",
              "unique_Hash##15   0.000004   unique_Hash    15\n",
              "unique_Naive##20  0.000034  unique_Naive    20\n",
              "unique_Sort##20   0.000008   unique_Sort    20\n",
              "unique_Hash##20   0.000004   unique_Hash    20\n",
              "unique_Naive##25  0.000029  unique_Naive    25\n",
              "unique_Sort##25   0.000005   unique_Sort    25\n",
              "unique_Hash##25   0.000005   unique_Hash    25"
            ]
          },
          "metadata": {
            "tags": []
          },
          "execution_count": 16
        }
      ]
    },
    {
      "cell_type": "markdown",
      "metadata": {
        "id": "EttLgpJu9NSq"
      },
      "source": [
        "Resultado do experimento (gráfico)"
      ]
    },
    {
      "cell_type": "code",
      "metadata": {
        "id": "6-fc0MDFIdQM",
        "colab": {
          "base_uri": "https://localhost:8080/",
          "height": 533
        },
        "outputId": "20a6fc1b-a660-43a1-cfad-f21c7074660d"
      },
      "source": [
        "import seaborn as sns\n",
        "%matplotlib inline\n",
        "import matplotlib.pyplot as plt\n",
        "\n",
        "##Defines font size and line width\n",
        "sns.set(font_scale=1, style=\"ticks\", rc={\"lines.linewidth\": 2})\n",
        "\n",
        "##Defines plot size\n",
        "plt.rcParams['figure.figsize'] = [20, 10]\n",
        "\n",
        "g = sns.lineplot(x='Size', y='Time', hue='Algorithm', data=df)\n",
        "g.set_yscale('log')\n",
        "g.set(xticks=[i for i in df.Size])\n",
        "plt.show()"
      ],
      "execution_count": null,
      "outputs": [
        {
          "output_type": "display_data",
          "data": {
            "image/png": "[encoded data removed]",
            "text/plain": [
              "<Figure size 1440x720 with 1 Axes>"
            ]
          },
          "metadata": {
            "tags": []
          }
        }
      ]
    }
  ]
}