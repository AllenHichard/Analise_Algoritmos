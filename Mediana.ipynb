{
  "nbformat": 4,
  "nbformat_minor": 0,
  "metadata": {
    "colab": {
      "name": "UniqueItems.ipynb",
      "provenance": [],
      "collapsed_sections": [],
      "include_colab_link": true
    },
    "kernelspec": {
      "name": "python3",
      "display_name": "Python 3"
    }
  },
  "cells": [
    {
      "cell_type": "markdown",
      "metadata": {
        "id": "view-in-github",
        "colab_type": "text"
      },
      "source": [
        "<a href=\"https://colab.research.google.com/github/AllenHichard/Analise_Algoritmos/blob/main/Mediana.ipynb\" target=\"_parent\"><img src=\"https://colab.research.google.com/assets/colab-badge.svg\" alt=\"Open In Colab\"/></a>"
      ]
    },
    {
      "cell_type": "markdown",
      "metadata": {
        "id": "EoORkOphIMc-"
      },
      "source": [
        "def Algoritmos"
      ]
    },
    {
      "cell_type": "code",
      "metadata": {
        "id": "dwcSIPydC8pn"
      },
      "source": [
        "def merge_sort(vetor, aux, esquerda, direita):\n",
        "    if direita <= esquerda:\n",
        "        return\n",
        "    centro = (esquerda + direita) // 2\n",
        "    merge_sort(vetor, aux, esquerda, centro)\n",
        "    merge_sort(vetor, aux, centro + 1, direita)\n",
        "    merge(vetor, aux, esquerda, centro, direita)\n",
        "    return vetor\n",
        "\n",
        "def merge(vetor, aux, esquerda, centro, direita):\n",
        "    i = esquerda\n",
        "    j = centro + 1\n",
        "    for index in range(esquerda, direita + 1):\n",
        "        aux[index] = vetor[index]\n",
        "    for index in range(esquerda, direita + 1):\n",
        "        if i > centro:\n",
        "            vetor[index] = aux[j]\n",
        "            j += 1\n",
        "        elif j > direita:\n",
        "            vetor[index] = aux[i]\n",
        "            i += 1\n",
        "        elif aux[j] < aux[i]:\n",
        "            vetor[index] = aux[j]\n",
        "            j += 1\n",
        "        else:\n",
        "            vetor[index] = aux[i]\n",
        "            i += 1\n",
        "\n",
        "def lomuto_partition(A, l, r):\n",
        "    p = A[l]\n",
        "    s = l\n",
        "    for i in range(l+1, r):\n",
        "        if A[i] < p:\n",
        "            s += 1\n",
        "            A[s], A[i] = A[i], A[s]\n",
        "    A[l], A[s] = A[s], A[l]\n",
        "    return s\n",
        "\n",
        "def mediana_Naive(vetor, aux, esquerda, direita): #l,r,k foram introduzidos para faciltiar a chamada de funções\n",
        "    A = merge_sort(vetor, aux, esquerda, direita)\n",
        "    return A[int((len(A)-1)/2)]  #len(L)-1 to pick up the left element for the even size vector\n",
        "\n",
        "def mediana_QuickSelect(A, l, r, k):\n",
        "    s = lomuto_partition(A,l,r)\n",
        "    if s == k-1:\n",
        "        return A[s]\n",
        "    else:\n",
        "        if s > k-1:\n",
        "            return mediana_QuickSelect(A, l, s, k) # retirei o -1 do terceiro parâmetro por causa do intervalo aberto (range do for)\n",
        "        else:\n",
        "            return mediana_QuickSelect(A, s+1, r, k)\n",
        "\n",
        "def naive(Lista):\n",
        "  aux = [0] * len(Lista)\n",
        "  return mediana_Naive(Lista, aux, 0, len(Lista) - 1) \n",
        "\n",
        "def quickSelect(Lista):\n",
        "   k = int((len(Lista)+1)/2)\n",
        "   return mediana_QuickSelect(Lista, 0, len(Lista), k)\n",
        "\n",
        "  "
      ],
      "execution_count": 29,
      "outputs": []
    },
    {
      "cell_type": "markdown",
      "metadata": {
        "id": "QSVa8JepIU5d"
      },
      "source": [
        "Coleta de dados dos experimentos"
      ]
    },
    {
      "cell_type": "code",
      "metadata": {
        "id": "K2-sWdYied_S"
      },
      "source": [
        ""
      ],
      "execution_count": null,
      "outputs": []
    },
    {
      "cell_type": "code",
      "metadata": {
        "id": "UrHF7SQDERih",
        "colab": {
          "base_uri": "https://localhost:8080/"
        },
        "outputId": "283c8b57-a6d5-4d92-a32e-b1305ee4bbfb"
      },
      "source": [
        "import time\n",
        "from numpy import random\n",
        "DOMAIN = 10000000 ##Você deve escolher um valor mais adequado\n",
        "def avg_time(domain, tam, func, rounds, test = False): \n",
        "  #Se quiser testar, altere a variável test para True ou passe o parâmetro True na chamada da função.\n",
        "  sum = float(0)\n",
        "  for i in range(rounds):\n",
        "    #create a list with random numbers\n",
        "    random.seed(i)\n",
        "    L=list(random.randint(tam+domain, size=tam))\n",
        "    start = time.time()\n",
        "    mediana = func(L)\n",
        "    end = time.time()\n",
        "    sum += end-start\n",
        "    if test:\n",
        "      assert mediana == sorted(L)[int((len(L)-1)/2)]\n",
        "  return sum/rounds\n",
        "\n",
        "#defines the algorithms to be processed\n",
        "algorithms = [naive, quickSelect]\n",
        "\n",
        "#defines the number of times each algorithm will be processed to find the average time\n",
        "num_rounds = 100\n",
        "\n",
        "sizes = [1000,2000,3000,4000,5000] ##você deve escolher tamanhos mais adequados\n",
        "mapSizeToTime = dict()\n",
        "for i in range(len(sizes)):\n",
        "  print(f\"Starting experiments for datasets with size={sizes[i]}, each experiment has {num_rounds} rounds.\")\n",
        "  \n",
        "  ##Map list size to algorithm average time\n",
        "  for algorithm in algorithms:      \n",
        "    mapSizeToTime[f\"{algorithm.__name__ }##{sizes[i]}\"] = avg_time(DOMAIN, sizes[i], algorithm, num_rounds)\n",
        "  \n",
        "print(f\"Finish data collection\")"
      ],
      "execution_count": 31,
      "outputs": [
        {
          "output_type": "stream",
          "text": [
            "Starting experiments for datasets with size=1000, each experiment has 100 rounds.\n",
            "Starting experiments for datasets with size=2000, each experiment has 100 rounds.\n",
            "Starting experiments for datasets with size=3000, each experiment has 100 rounds.\n",
            "Starting experiments for datasets with size=4000, each experiment has 100 rounds.\n",
            "Starting experiments for datasets with size=5000, each experiment has 100 rounds.\n",
            "Finish data collection\n"
          ],
          "name": "stdout"
        }
      ]
    },
    {
      "cell_type": "markdown",
      "metadata": {
        "id": "ERQNwuNtIdA7"
      },
      "source": [
        "Formata os dados do experimento para serem exibidos"
      ]
    },
    {
      "cell_type": "code",
      "metadata": {
        "id": "cJP-IzymQtk5",
        "colab": {
          "base_uri": "https://localhost:8080/",
          "height": 347
        },
        "outputId": "5a52e716-013c-4c7d-dc47-87f6c64a3fb6"
      },
      "source": [
        "import pandas as pd\n",
        "df = pd.DataFrame.from_dict(mapSizeToTime, orient='index',columns=['Time'])\n",
        "df['Algorithm'] = [i.split(\"##\")[0] for i in df.index]\n",
        "df['Size'] = [int(i.split(\"##\")[1]) for i in df.index]\n",
        "df"
      ],
      "execution_count": 32,
      "outputs": [
        {
          "output_type": "execute_result",
          "data": {
            "text/html": [
              "<div>\n",
              "<style scoped>\n",
              "    .dataframe tbody tr th:only-of-type {\n",
              "        vertical-align: middle;\n",
              "    }\n",
              "\n",
              "    .dataframe tbody tr th {\n",
              "        vertical-align: top;\n",
              "    }\n",
              "\n",
              "    .dataframe thead th {\n",
              "        text-align: right;\n",
              "    }\n",
              "</style>\n",
              "<table border=\"1\" class=\"dataframe\">\n",
              "  <thead>\n",
              "    <tr style=\"text-align: right;\">\n",
              "      <th></th>\n",
              "      <th>Time</th>\n",
              "      <th>Algorithm</th>\n",
              "      <th>Size</th>\n",
              "    </tr>\n",
              "  </thead>\n",
              "  <tbody>\n",
              "    <tr>\n",
              "      <th>naive##1000</th>\n",
              "      <td>0.004677</td>\n",
              "      <td>naive</td>\n",
              "      <td>1000</td>\n",
              "    </tr>\n",
              "    <tr>\n",
              "      <th>quickSelect##1000</th>\n",
              "      <td>0.000584</td>\n",
              "      <td>quickSelect</td>\n",
              "      <td>1000</td>\n",
              "    </tr>\n",
              "    <tr>\n",
              "      <th>naive##2000</th>\n",
              "      <td>0.010426</td>\n",
              "      <td>naive</td>\n",
              "      <td>2000</td>\n",
              "    </tr>\n",
              "    <tr>\n",
              "      <th>quickSelect##2000</th>\n",
              "      <td>0.001092</td>\n",
              "      <td>quickSelect</td>\n",
              "      <td>2000</td>\n",
              "    </tr>\n",
              "    <tr>\n",
              "      <th>naive##3000</th>\n",
              "      <td>0.015988</td>\n",
              "      <td>naive</td>\n",
              "      <td>3000</td>\n",
              "    </tr>\n",
              "    <tr>\n",
              "      <th>quickSelect##3000</th>\n",
              "      <td>0.001765</td>\n",
              "      <td>quickSelect</td>\n",
              "      <td>3000</td>\n",
              "    </tr>\n",
              "    <tr>\n",
              "      <th>naive##4000</th>\n",
              "      <td>0.021919</td>\n",
              "      <td>naive</td>\n",
              "      <td>4000</td>\n",
              "    </tr>\n",
              "    <tr>\n",
              "      <th>quickSelect##4000</th>\n",
              "      <td>0.002180</td>\n",
              "      <td>quickSelect</td>\n",
              "      <td>4000</td>\n",
              "    </tr>\n",
              "    <tr>\n",
              "      <th>naive##5000</th>\n",
              "      <td>0.028592</td>\n",
              "      <td>naive</td>\n",
              "      <td>5000</td>\n",
              "    </tr>\n",
              "    <tr>\n",
              "      <th>quickSelect##5000</th>\n",
              "      <td>0.002700</td>\n",
              "      <td>quickSelect</td>\n",
              "      <td>5000</td>\n",
              "    </tr>\n",
              "  </tbody>\n",
              "</table>\n",
              "</div>"
            ],
            "text/plain": [
              "                       Time    Algorithm  Size\n",
              "naive##1000        0.004677        naive  1000\n",
              "quickSelect##1000  0.000584  quickSelect  1000\n",
              "naive##2000        0.010426        naive  2000\n",
              "quickSelect##2000  0.001092  quickSelect  2000\n",
              "naive##3000        0.015988        naive  3000\n",
              "quickSelect##3000  0.001765  quickSelect  3000\n",
              "naive##4000        0.021919        naive  4000\n",
              "quickSelect##4000  0.002180  quickSelect  4000\n",
              "naive##5000        0.028592        naive  5000\n",
              "quickSelect##5000  0.002700  quickSelect  5000"
            ]
          },
          "metadata": {
            "tags": []
          },
          "execution_count": 32
        }
      ]
    },
    {
      "cell_type": "markdown",
      "metadata": {
        "id": "EttLgpJu9NSq"
      },
      "source": [
        "Resultado do experimento (gráfico)"
      ]
    },
    {
      "cell_type": "code",
      "metadata": {
        "id": "6-fc0MDFIdQM",
        "colab": {
          "base_uri": "https://localhost:8080/",
          "height": 611
        },
        "outputId": "a79a835c-d100-4768-cf5b-68b1b66fb536"
      },
      "source": [
        "import seaborn as sns\n",
        "%matplotlib inline\n",
        "import matplotlib.pyplot as plt\n",
        "\n",
        "##Defines font size and line width\n",
        "sns.set(font_scale=1, style=\"ticks\", rc={\"lines.linewidth\": 2})\n",
        "\n",
        "##Defines plot size\n",
        "plt.rcParams['figure.figsize'] = [20, 10]\n",
        "\n",
        "g = sns.lineplot(x='Size', y='Time', hue='Algorithm', data=df)\n",
        "g.set_yscale('log')\n",
        "g.set(xticks=[i for i in df.Size])\n",
        "plt.show()"
      ],
      "execution_count": 33,
      "outputs": [
        {
          "output_type": "display_data",
          "data": {
            "image/png": "[encoded data removed]",
            "text/plain": [
              "<Figure size 1440x720 with 1 Axes>"
            ]
          },
          "metadata": {
            "tags": []
          }
        }
      ]
    }
  ]
}