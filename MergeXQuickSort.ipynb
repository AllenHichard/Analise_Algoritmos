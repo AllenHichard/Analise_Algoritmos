{
  "nbformat": 4,
  "nbformat_minor": 0,
  "metadata": {
    "colab": {
      "name": "UniqueItems.ipynb",
      "provenance": [],
      "collapsed_sections": [],
      "include_colab_link": true
    },
    "kernelspec": {
      "name": "python3",
      "display_name": "Python 3"
    }
  },
  "cells": [
    {
      "cell_type": "markdown",
      "metadata": {
        "id": "view-in-github",
        "colab_type": "text"
      },
      "source": [
        "<a href=\"https://colab.research.google.com/github/AllenHichard/Analise_Algoritmos/blob/main/MergeXQuickSort.ipynb\" target=\"_parent\"><img src=\"https://colab.research.google.com/assets/colab-badge.svg\" alt=\"Open In Colab\"/></a>"
      ]
    },
    {
      "cell_type": "markdown",
      "metadata": {
        "id": "EoORkOphIMc-"
      },
      "source": [
        "Algoritmos"
      ]
    },
    {
      "cell_type": "code",
      "metadata": {
        "id": "dwcSIPydC8pn"
      },
      "source": [
        "def merge(array, left_array, right_array):\n",
        "    li = 0\n",
        "    ri = 0\n",
        "    for index in range(0, len(array)):\n",
        "        if li >= len(left_array):\n",
        "            array[index] = right_array[ri]\n",
        "            ri += 1\n",
        "        elif ri >= len(right_array):\n",
        "            array[index] = left_array[li]\n",
        "            li += 1\n",
        "        elif left_array[li] < right_array[ri]:\n",
        "            array[index] = left_array[li]\n",
        "            li += 1\n",
        "        else:\n",
        "            array[index] = right_array[ri]\n",
        "            ri += 1\n",
        "\n",
        "def merge_sort(array):\n",
        "    if len(array) <= 1: return\n",
        "    left_array = array[:len(array)//2]\n",
        "    right_array = array[len(array)//2:]\n",
        "    merge_sort(left_array)\n",
        "    merge_sort(right_array)\n",
        "    merge(array, left_array, right_array)\n",
        "    return array #não deste retorno, coloquei apenas para sinalização\n",
        "\n",
        "\n",
        "def lomuto_partition(A, l, r):\n",
        "    p = A[r]\n",
        "    s = l - 1\n",
        "    for i in range(l, r):\n",
        "        if A[i] < p:\n",
        "            s += 1\n",
        "            A[s], A[i] = A[i], A[s]\n",
        "    A[r], A[s+1] = A[s+1], A[r]\n",
        "    return s + 1\n",
        "\n",
        "def quick_sort_lomuto(array):\n",
        "    quicksort_lomuto(array, 0, len(array) - 1)\n",
        "\n",
        "\n",
        "def quicksort_lomuto(array, i, j):\n",
        "    if i>=j: return\n",
        "    l = lomuto_partition(array,i,j)\n",
        "    quicksort_lomuto(array, i, l-1) # Com o For não precisa do -1\n",
        "    quicksort_lomuto(array, l+1, j)\n",
        "\n",
        "\n",
        "\n",
        "def hoares_partition(array, i, j):\n",
        "    l = i\n",
        "    p = j\n",
        "    r = j-1\n",
        "    while l<=r:\n",
        "        while l<=r and array[l]<array[p]:\n",
        "            l += 1\n",
        "        while l<=r and array[r]>array[p]:\n",
        "            r -= 1\n",
        "        if l<= r:\n",
        "            array[l],array[r]=array[r],array[l]\n",
        "            l+=1\n",
        "            r-=1\n",
        "    array[l], array[p] = array[p], array[l]\n",
        "    return l\n",
        "\n",
        "def quicksort_hoares(array, i, j):\n",
        "    if i>=j: return\n",
        "    l = hoares_partition(array,i,j)\n",
        "    quicksort_hoares(array, i, l-1) # Sem o For precisa do -1\n",
        "    quicksort_hoares(array, l+1, j)\n",
        "\n",
        "def quick_sort_hoares(array):\n",
        "    quicksort_hoares(array, 0, len(array)-1)\n",
        "\n",
        "#x = 50000\n",
        "#print(random.randint(x+1000, size=x))\n",
        "\n",
        "#import time\n",
        "\n",
        "#x = 500000\n",
        "#vetor1 = [random.randint(0, 1000) for _ in range(x)]\n",
        "#vetor1 = list(random.randint(x+1000, size=x))\n",
        "#vetor2 = vetor1.copy()\n",
        "#teste = vetor1.copy()\n",
        "\n",
        "#start = time.time()\n",
        "#quick_sort_lomuto(vetor1)\n",
        "#end = time.time()\n",
        "#print(end-start)\n",
        "\n",
        "#start = time.time()\n",
        "#quick_sort_hoares(vetor2)\n",
        "#end = time.time()\n",
        "#print(end-start)\n",
        "\n",
        "\n",
        "\n",
        "  "
      ],
      "execution_count": 50,
      "outputs": []
    },
    {
      "cell_type": "markdown",
      "metadata": {
        "id": "QSVa8JepIU5d"
      },
      "source": [
        "Coleta de dados dos experimentos"
      ]
    },
    {
      "cell_type": "code",
      "metadata": {
        "id": "UrHF7SQDERih",
        "colab": {
          "base_uri": "https://localhost:8080/"
        },
        "outputId": "780bd575-1ca5-48b1-d73f-1a9ced2e0fe9"
      },
      "source": [
        "import time\n",
        "from numpy import random\n",
        "DOMAIN = 10000 ##Você deve escolher um valor mais adequado\n",
        "def avg_time(domain, tam, func, rounds, test = False): \n",
        "  sum = float(0)\n",
        "  for i in range(rounds):\n",
        "    #create a list with random numbers\n",
        "    random.seed(i)\n",
        "    L= list(random.randint(domain, size=tam))\n",
        "    #L = [random.randint(0, domain) for _ in range(tam)]\n",
        "    start = time.time()    \n",
        "    func(L) \n",
        "    end = time.time()\n",
        "    sum += end-start\n",
        "    #if test:\n",
        "      #assert L == sorted(L)\n",
        "  return sum/rounds\n",
        "\n",
        "#defines the algorithms to be processed\n",
        "algorithms = [merge_sort, quick_sort_lomuto, quick_sort_hoares]\n",
        "\n",
        "#defines the number of times each algorithm will be processed to find the average time\n",
        "num_rounds = 20\n",
        "\n",
        "sizes = [100000,200000,300000,400000,500000] ##você deve escolher tamanhos mais adequados\n",
        "mapSizeToTime = dict()\n",
        "for i in range(len(sizes)):\n",
        "  print(f\"Starting experiments for datasets with size={sizes[i]}, each experiment has {num_rounds} rounds.\")\n",
        "  \n",
        "  ##Map list size to algorithm average time\n",
        "  for algorithm in algorithms:      \n",
        "    mapSizeToTime[f\"{algorithm.__name__ }##{sizes[i]}\"] = avg_time(DOMAIN, sizes[i], algorithm, num_rounds, True)\n",
        "  \n",
        "print(f\"Finish data collection\")"
      ],
      "execution_count": 54,
      "outputs": [
        {
          "output_type": "stream",
          "text": [
            "Starting experiments for datasets with size=100000, each experiment has 20 rounds.\n",
            "Starting experiments for datasets with size=200000, each experiment has 20 rounds.\n",
            "Starting experiments for datasets with size=300000, each experiment has 20 rounds.\n",
            "Starting experiments for datasets with size=400000, each experiment has 20 rounds.\n",
            "Starting experiments for datasets with size=500000, each experiment has 20 rounds.\n",
            "Finish data collection\n"
          ],
          "name": "stdout"
        }
      ]
    },
    {
      "cell_type": "markdown",
      "metadata": {
        "id": "ERQNwuNtIdA7"
      },
      "source": [
        "Formata os dados do experimento para serem exibidos"
      ]
    },
    {
      "cell_type": "code",
      "metadata": {
        "id": "cJP-IzymQtk5",
        "colab": {
          "base_uri": "https://localhost:8080/",
          "height": 497
        },
        "outputId": "bb56fe99-1e0d-45b7-b78c-b362ccf35cef"
      },
      "source": [
        "import pandas as pd\n",
        "df = pd.DataFrame.from_dict(mapSizeToTime, orient='index',columns=['Time'])\n",
        "df['Algorithm'] = [i.split(\"##\")[0] for i in df.index]\n",
        "df['Size'] = [int(i.split(\"##\")[1]) for i in df.index]\n",
        "df"
      ],
      "execution_count": 55,
      "outputs": [
        {
          "output_type": "execute_result",
          "data": {
            "text/html": [
              "<div>\n",
              "<style scoped>\n",
              "    .dataframe tbody tr th:only-of-type {\n",
              "        vertical-align: middle;\n",
              "    }\n",
              "\n",
              "    .dataframe tbody tr th {\n",
              "        vertical-align: top;\n",
              "    }\n",
              "\n",
              "    .dataframe thead th {\n",
              "        text-align: right;\n",
              "    }\n",
              "</style>\n",
              "<table border=\"1\" class=\"dataframe\">\n",
              "  <thead>\n",
              "    <tr style=\"text-align: right;\">\n",
              "      <th></th>\n",
              "      <th>Time</th>\n",
              "      <th>Algorithm</th>\n",
              "      <th>Size</th>\n",
              "    </tr>\n",
              "  </thead>\n",
              "  <tbody>\n",
              "    <tr>\n",
              "      <th>merge_sort##100000</th>\n",
              "      <td>0.784139</td>\n",
              "      <td>merge_sort</td>\n",
              "      <td>100000</td>\n",
              "    </tr>\n",
              "    <tr>\n",
              "      <th>quick_sort_lomuto##100000</th>\n",
              "      <td>0.452135</td>\n",
              "      <td>quick_sort_lomuto</td>\n",
              "      <td>100000</td>\n",
              "    </tr>\n",
              "    <tr>\n",
              "      <th>quick_sort_hoares##100000</th>\n",
              "      <td>0.470050</td>\n",
              "      <td>quick_sort_hoares</td>\n",
              "      <td>100000</td>\n",
              "    </tr>\n",
              "    <tr>\n",
              "      <th>merge_sort##200000</th>\n",
              "      <td>1.689587</td>\n",
              "      <td>merge_sort</td>\n",
              "      <td>200000</td>\n",
              "    </tr>\n",
              "    <tr>\n",
              "      <th>quick_sort_lomuto##200000</th>\n",
              "      <td>1.027213</td>\n",
              "      <td>quick_sort_lomuto</td>\n",
              "      <td>200000</td>\n",
              "    </tr>\n",
              "    <tr>\n",
              "      <th>quick_sort_hoares##200000</th>\n",
              "      <td>1.025946</td>\n",
              "      <td>quick_sort_hoares</td>\n",
              "      <td>200000</td>\n",
              "    </tr>\n",
              "    <tr>\n",
              "      <th>merge_sort##300000</th>\n",
              "      <td>2.631539</td>\n",
              "      <td>merge_sort</td>\n",
              "      <td>300000</td>\n",
              "    </tr>\n",
              "    <tr>\n",
              "      <th>quick_sort_lomuto##300000</th>\n",
              "      <td>1.720712</td>\n",
              "      <td>quick_sort_lomuto</td>\n",
              "      <td>300000</td>\n",
              "    </tr>\n",
              "    <tr>\n",
              "      <th>quick_sort_hoares##300000</th>\n",
              "      <td>1.623651</td>\n",
              "      <td>quick_sort_hoares</td>\n",
              "      <td>300000</td>\n",
              "    </tr>\n",
              "    <tr>\n",
              "      <th>merge_sort##400000</th>\n",
              "      <td>3.588914</td>\n",
              "      <td>merge_sort</td>\n",
              "      <td>400000</td>\n",
              "    </tr>\n",
              "    <tr>\n",
              "      <th>quick_sort_lomuto##400000</th>\n",
              "      <td>2.518831</td>\n",
              "      <td>quick_sort_lomuto</td>\n",
              "      <td>400000</td>\n",
              "    </tr>\n",
              "    <tr>\n",
              "      <th>quick_sort_hoares##400000</th>\n",
              "      <td>2.253297</td>\n",
              "      <td>quick_sort_hoares</td>\n",
              "      <td>400000</td>\n",
              "    </tr>\n",
              "    <tr>\n",
              "      <th>merge_sort##500000</th>\n",
              "      <td>4.570429</td>\n",
              "      <td>merge_sort</td>\n",
              "      <td>500000</td>\n",
              "    </tr>\n",
              "    <tr>\n",
              "      <th>quick_sort_lomuto##500000</th>\n",
              "      <td>3.409826</td>\n",
              "      <td>quick_sort_lomuto</td>\n",
              "      <td>500000</td>\n",
              "    </tr>\n",
              "    <tr>\n",
              "      <th>quick_sort_hoares##500000</th>\n",
              "      <td>2.899258</td>\n",
              "      <td>quick_sort_hoares</td>\n",
              "      <td>500000</td>\n",
              "    </tr>\n",
              "  </tbody>\n",
              "</table>\n",
              "</div>"
            ],
            "text/plain": [
              "                               Time          Algorithm    Size\n",
              "merge_sort##100000         0.784139         merge_sort  100000\n",
              "quick_sort_lomuto##100000  0.452135  quick_sort_lomuto  100000\n",
              "quick_sort_hoares##100000  0.470050  quick_sort_hoares  100000\n",
              "merge_sort##200000         1.689587         merge_sort  200000\n",
              "quick_sort_lomuto##200000  1.027213  quick_sort_lomuto  200000\n",
              "quick_sort_hoares##200000  1.025946  quick_sort_hoares  200000\n",
              "merge_sort##300000         2.631539         merge_sort  300000\n",
              "quick_sort_lomuto##300000  1.720712  quick_sort_lomuto  300000\n",
              "quick_sort_hoares##300000  1.623651  quick_sort_hoares  300000\n",
              "merge_sort##400000         3.588914         merge_sort  400000\n",
              "quick_sort_lomuto##400000  2.518831  quick_sort_lomuto  400000\n",
              "quick_sort_hoares##400000  2.253297  quick_sort_hoares  400000\n",
              "merge_sort##500000         4.570429         merge_sort  500000\n",
              "quick_sort_lomuto##500000  3.409826  quick_sort_lomuto  500000\n",
              "quick_sort_hoares##500000  2.899258  quick_sort_hoares  500000"
            ]
          },
          "metadata": {
            "tags": []
          },
          "execution_count": 55
        }
      ]
    },
    {
      "cell_type": "markdown",
      "metadata": {
        "id": "EttLgpJu9NSq"
      },
      "source": [
        "Resultado do experimento (gráfico)"
      ]
    },
    {
      "cell_type": "code",
      "metadata": {
        "id": "6-fc0MDFIdQM",
        "colab": {
          "base_uri": "https://localhost:8080/",
          "height": 611
        },
        "outputId": "cd8bc302-51e4-46e6-cefc-16550355059f"
      },
      "source": [
        "import seaborn as sns\n",
        "%matplotlib inline\n",
        "import matplotlib.pyplot as plt\n",
        "\n",
        "##Defines font size and line width\n",
        "sns.set(font_scale=1, style=\"ticks\", rc={\"lines.linewidth\": 2})\n",
        "\n",
        "##Defines plot size\n",
        "plt.rcParams['figure.figsize'] = [20, 10]\n",
        "\n",
        "g = sns.lineplot(x='Size', y='Time', hue='Algorithm', data=df)\n",
        "#g.set_yscale('log')\n",
        "g.set(xticks=[i for i in df.Size])\n",
        "plt.show()"
      ],
      "execution_count": 58,
      "outputs": [
        {
          "output_type": "display_data",
          "data": {
            "image/png": "[encoded data removed]",
            "text/plain": [
              "<Figure size 1440x720 with 1 Axes>"
            ]
          },
          "metadata": {
            "tags": []
          }
        }
      ]
    }
  ]
}