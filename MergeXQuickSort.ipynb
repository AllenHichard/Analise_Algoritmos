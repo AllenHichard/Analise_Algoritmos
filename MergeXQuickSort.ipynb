{
  "nbformat": 4,
  "nbformat_minor": 0,
  "metadata": {
    "colab": {
      "name": "UniqueItems.ipynb",
      "provenance": [],
      "collapsed_sections": [],
      "include_colab_link": true
    },
    "kernelspec": {
      "name": "python3",
      "display_name": "Python 3"
    }
  },
  "cells": [
    {
      "cell_type": "markdown",
      "metadata": {
        "id": "view-in-github",
        "colab_type": "text"
      },
      "source": [
        "<a href=\"https://colab.research.google.com/github/AllenHichard/Analise_Algoritmos/blob/main/MergeXQuickSort.ipynb\" target=\"_parent\"><img src=\"https://colab.research.google.com/assets/colab-badge.svg\" alt=\"Open In Colab\"/></a>"
      ]
    },
    {
      "cell_type": "markdown",
      "metadata": {
        "id": "EoORkOphIMc-"
      },
      "source": [
        "Algoritmos"
      ]
    },
    {
      "cell_type": "code",
      "metadata": {
        "id": "dwcSIPydC8pn"
      },
      "source": [
        "def merge(array, left_array, right_array):\n",
        "    li = 0\n",
        "    ri = 0\n",
        "    for index in range(0, len(array)):\n",
        "        if li >= len(left_array):\n",
        "            array[index] = right_array[ri]\n",
        "            ri += 1\n",
        "        elif ri >= len(right_array):\n",
        "            array[index] = left_array[li]\n",
        "            li += 1\n",
        "        elif left_array[li] < right_array[ri]:\n",
        "            array[index] = left_array[li]\n",
        "            li += 1\n",
        "        else:\n",
        "            array[index] = right_array[ri]\n",
        "            ri += 1\n",
        "\n",
        "def merge_sort(array):\n",
        "    if len(array) <= 1: return\n",
        "    left_array = array[:len(array)//2]\n",
        "    right_array = array[len(array)//2:]\n",
        "    merge_sort(left_array)\n",
        "    merge_sort(right_array)\n",
        "    merge(array, left_array, right_array)\n",
        "    return array #não deste retorno, coloquei apenas para sinalização\n",
        "\n",
        "\n",
        "def lomuto_partition(A, l, r):\n",
        "    p = A[l] #pivo primeiro\n",
        "    s = l\n",
        "    for i in range(l+1, r):\n",
        "        if A[i] < p:\n",
        "            s += 1\n",
        "            A[s], A[i] = A[i], A[s]\n",
        "    A[l], A[s] = A[s], A[l]\n",
        "    return s\n",
        "\n",
        "\n",
        "def quicksort_lomuto(array, i, j):\n",
        "    if i>=j: return\n",
        "    l = lomuto_partition(array,i,j)\n",
        "    quicksort_lomuto(array, i, l) # Com o For não precisa do -1\n",
        "    quicksort_lomuto(array, l+1, j)\n",
        "\n",
        "def quick_sort_lomuto(array):\n",
        "    quicksort_lomuto(array, 0, len(array))\n",
        "    return array #não deste retorno, coloquei apenas para sinalização\n",
        "\n",
        "\n",
        "def hoares_partition(array, i, j):\n",
        "    l = i\n",
        "    p = j\n",
        "    r = j-1\n",
        "    while l<=r:\n",
        "        while l<=r and array[l]<array[p]:\n",
        "            l += 1\n",
        "        while l<=r and array[r]>array[p]:\n",
        "            r -= 1\n",
        "        if l<=r:\n",
        "            array[l],array[r]=array[r],array[l]\n",
        "            l+=1\n",
        "            r-=1\n",
        "    array[l], array[p] = array[p], array[l]\n",
        "    return l\n",
        "\n",
        "def quicksort_hoares(array, i, j):\n",
        "    if i>=j: return\n",
        "    l = hoares_partition(array,i,j)\n",
        "    quicksort_hoares(array, i, l-1) # Sem o For precisa do -1\n",
        "    quicksort_hoares(array, l+1, j)\n",
        "\n",
        "def quick_sort_hoares(array):\n",
        "    quicksort_hoares(array, 0, len(array)-1)\n",
        "    return array #não deste retorno, coloquei apenas para sinalização\n",
        "\n",
        "\n",
        "\n",
        "\n",
        "\n",
        "  "
      ],
      "execution_count": 99,
      "outputs": []
    },
    {
      "cell_type": "markdown",
      "metadata": {
        "id": "QSVa8JepIU5d"
      },
      "source": [
        "Coleta de dados dos experimentos"
      ]
    },
    {
      "cell_type": "code",
      "metadata": {
        "id": "UrHF7SQDERih",
        "colab": {
          "base_uri": "https://localhost:8080/"
        },
        "outputId": "dd81f3cd-1ca3-4587-bc98-1431b0e11956"
      },
      "source": [
        "import time\n",
        "from numpy import random\n",
        "DOMAIN = 10000 ##Você deve escolher um valor mais adequado\n",
        "def avg_time(domain, tam, func, rounds, test = False): \n",
        "  sum = float(0)\n",
        "  for i in range(rounds):\n",
        "    #create a list with random numbers\n",
        "    random.seed(i)\n",
        "    L=list(random.randint(tam+domain, size=tam))\n",
        "    start = time.time()    \n",
        "    L = func(L) #Não precisava porque alterei direto, apenas para ficar mais legível \n",
        "    end = time.time()\n",
        "    sum += end-start\n",
        "    #if test:\n",
        "      #assert L == sorted(L)\n",
        "  return sum/rounds\n",
        "\n",
        "#defines the algorithms to be processed\n",
        "algorithms = [quick_sort_lomuto, quick_sort_hoares]\n",
        "\n",
        "#defines the number of times each algorithm will be processed to find the average time\n",
        "num_rounds = 2\n",
        "\n",
        "sizes = [1000,1500,2000,2500,3000] ##você deve escolher tamanhos mais adequados\n",
        "mapSizeToTime = dict()\n",
        "for i in range(len(sizes)):\n",
        "  print(f\"Starting experiments for datasets with size={sizes[i]}, each experiment has {num_rounds} rounds.\")\n",
        "  \n",
        "  ##Map list size to algorithm average time\n",
        "  for algorithm in algorithms:      \n",
        "    mapSizeToTime[f\"{algorithm.__name__ }##{sizes[i]}\"] = avg_time(DOMAIN, sizes[i], algorithm, num_rounds)\n",
        "  \n",
        "print(f\"Finish data collection\")"
      ],
      "execution_count": 107,
      "outputs": [
        {
          "output_type": "stream",
          "text": [
            "Starting experiments for datasets with size=1000, each experiment has 2 rounds.\n",
            "Starting experiments for datasets with size=1500, each experiment has 2 rounds.\n",
            "Starting experiments for datasets with size=2000, each experiment has 2 rounds.\n",
            "Starting experiments for datasets with size=2500, each experiment has 2 rounds.\n",
            "Starting experiments for datasets with size=3000, each experiment has 2 rounds.\n",
            "Finish data collection\n"
          ],
          "name": "stdout"
        }
      ]
    },
    {
      "cell_type": "markdown",
      "metadata": {
        "id": "ERQNwuNtIdA7"
      },
      "source": [
        "Formata os dados do experimento para serem exibidos"
      ]
    },
    {
      "cell_type": "code",
      "metadata": {
        "id": "cJP-IzymQtk5",
        "colab": {
          "base_uri": "https://localhost:8080/",
          "height": 347
        },
        "outputId": "128d72f1-4726-4bbd-e093-8ae32882865e"
      },
      "source": [
        "import pandas as pd\n",
        "df = pd.DataFrame.from_dict(mapSizeToTime, orient='index',columns=['Time'])\n",
        "df['Algorithm'] = [i.split(\"##\")[0] for i in df.index]\n",
        "df['Size'] = [int(i.split(\"##\")[1]) for i in df.index]\n",
        "df"
      ],
      "execution_count": 108,
      "outputs": [
        {
          "output_type": "execute_result",
          "data": {
            "text/html": [
              "<div>\n",
              "<style scoped>\n",
              "    .dataframe tbody tr th:only-of-type {\n",
              "        vertical-align: middle;\n",
              "    }\n",
              "\n",
              "    .dataframe tbody tr th {\n",
              "        vertical-align: top;\n",
              "    }\n",
              "\n",
              "    .dataframe thead th {\n",
              "        text-align: right;\n",
              "    }\n",
              "</style>\n",
              "<table border=\"1\" class=\"dataframe\">\n",
              "  <thead>\n",
              "    <tr style=\"text-align: right;\">\n",
              "      <th></th>\n",
              "      <th>Time</th>\n",
              "      <th>Algorithm</th>\n",
              "      <th>Size</th>\n",
              "    </tr>\n",
              "  </thead>\n",
              "  <tbody>\n",
              "    <tr>\n",
              "      <th>quick_sort_lomuto##1000</th>\n",
              "      <td>0.002602</td>\n",
              "      <td>quick_sort_lomuto</td>\n",
              "      <td>1000</td>\n",
              "    </tr>\n",
              "    <tr>\n",
              "      <th>quick_sort_hoares##1000</th>\n",
              "      <td>0.002538</td>\n",
              "      <td>quick_sort_hoares</td>\n",
              "      <td>1000</td>\n",
              "    </tr>\n",
              "    <tr>\n",
              "      <th>quick_sort_lomuto##1500</th>\n",
              "      <td>0.003958</td>\n",
              "      <td>quick_sort_lomuto</td>\n",
              "      <td>1500</td>\n",
              "    </tr>\n",
              "    <tr>\n",
              "      <th>quick_sort_hoares##1500</th>\n",
              "      <td>0.004234</td>\n",
              "      <td>quick_sort_hoares</td>\n",
              "      <td>1500</td>\n",
              "    </tr>\n",
              "    <tr>\n",
              "      <th>quick_sort_lomuto##2000</th>\n",
              "      <td>0.005498</td>\n",
              "      <td>quick_sort_lomuto</td>\n",
              "      <td>2000</td>\n",
              "    </tr>\n",
              "    <tr>\n",
              "      <th>quick_sort_hoares##2000</th>\n",
              "      <td>0.005800</td>\n",
              "      <td>quick_sort_hoares</td>\n",
              "      <td>2000</td>\n",
              "    </tr>\n",
              "    <tr>\n",
              "      <th>quick_sort_lomuto##2500</th>\n",
              "      <td>0.007256</td>\n",
              "      <td>quick_sort_lomuto</td>\n",
              "      <td>2500</td>\n",
              "    </tr>\n",
              "    <tr>\n",
              "      <th>quick_sort_hoares##2500</th>\n",
              "      <td>0.007222</td>\n",
              "      <td>quick_sort_hoares</td>\n",
              "      <td>2500</td>\n",
              "    </tr>\n",
              "    <tr>\n",
              "      <th>quick_sort_lomuto##3000</th>\n",
              "      <td>0.008499</td>\n",
              "      <td>quick_sort_lomuto</td>\n",
              "      <td>3000</td>\n",
              "    </tr>\n",
              "    <tr>\n",
              "      <th>quick_sort_hoares##3000</th>\n",
              "      <td>0.009130</td>\n",
              "      <td>quick_sort_hoares</td>\n",
              "      <td>3000</td>\n",
              "    </tr>\n",
              "  </tbody>\n",
              "</table>\n",
              "</div>"
            ],
            "text/plain": [
              "                             Time          Algorithm  Size\n",
              "quick_sort_lomuto##1000  0.002602  quick_sort_lomuto  1000\n",
              "quick_sort_hoares##1000  0.002538  quick_sort_hoares  1000\n",
              "quick_sort_lomuto##1500  0.003958  quick_sort_lomuto  1500\n",
              "quick_sort_hoares##1500  0.004234  quick_sort_hoares  1500\n",
              "quick_sort_lomuto##2000  0.005498  quick_sort_lomuto  2000\n",
              "quick_sort_hoares##2000  0.005800  quick_sort_hoares  2000\n",
              "quick_sort_lomuto##2500  0.007256  quick_sort_lomuto  2500\n",
              "quick_sort_hoares##2500  0.007222  quick_sort_hoares  2500\n",
              "quick_sort_lomuto##3000  0.008499  quick_sort_lomuto  3000\n",
              "quick_sort_hoares##3000  0.009130  quick_sort_hoares  3000"
            ]
          },
          "metadata": {
            "tags": []
          },
          "execution_count": 108
        }
      ]
    },
    {
      "cell_type": "markdown",
      "metadata": {
        "id": "EttLgpJu9NSq"
      },
      "source": [
        "Resultado do experimento (gráfico)"
      ]
    },
    {
      "cell_type": "code",
      "metadata": {
        "id": "6-fc0MDFIdQM",
        "colab": {
          "base_uri": "https://localhost:8080/",
          "height": 611
        },
        "outputId": "84437703-ffee-49cd-ca37-bbf7270c4abe"
      },
      "source": [
        "import seaborn as sns\n",
        "%matplotlib inline\n",
        "import matplotlib.pyplot as plt\n",
        "\n",
        "##Defines font size and line width\n",
        "sns.set(font_scale=1, style=\"ticks\", rc={\"lines.linewidth\": 2})\n",
        "\n",
        "##Defines plot size\n",
        "plt.rcParams['figure.figsize'] = [20, 10]\n",
        "\n",
        "g = sns.lineplot(x='Size', y='Time', hue='Algorithm', data=df)\n",
        "#g.set_yscale('log')\n",
        "g.set(xticks=[i for i in df.Size])\n",
        "plt.show()"
      ],
      "execution_count": 110,
      "outputs": [
        {
          "output_type": "display_data",
          "data": {
            "image/png": "[encoded data removed]",
            "text/plain": [
              "<Figure size 1440x720 with 1 Axes>"
            ]
          },
          "metadata": {
            "tags": []
          }
        }
      ]
    }
  ]
}